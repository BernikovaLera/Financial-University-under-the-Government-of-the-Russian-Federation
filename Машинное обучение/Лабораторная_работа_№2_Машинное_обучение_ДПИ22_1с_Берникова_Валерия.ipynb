{
  "cells": [
    {
      "cell_type": "markdown",
      "metadata": {
        "id": "4bD-JwyE8xTa"
      },
      "source": [
        "# Парная линейная регрессия"
      ]
    },
    {
      "cell_type": "markdown",
      "metadata": {},
      "source": [
        "## Лабораторная_работа_№2_Машинное_обучение_ДПИ22_1с_Берникова_Валерия"
      ]
    },
    {
      "cell_type": "markdown",
      "metadata": {},
      "source": [
        "Задания для самостоятельного выполнения\n",
        "1. Проверьте работу модели с разными начальными значениями параметров. Убедитесь, что модель всегда сходится к оптимуму.\n",
        "2. Проверьте работу модели с другими значениями скорости обучения. Найдите значение, при котором градиентный спуск расходится.\n",
        "3. Модифицируйте код модели таким образом, чтобы он корректно работал как с Series, так и с DataFrame. При этом, конечно, датафрейм не должен содержать \"лишних\" столбцов.\n",
        "4. Модифицируйте алгоритм градиентного спука таким образом, чтобы он останавливаля, если ошибка перестает снижаться. Для этого сравнивайте, на сколько понизилась ошибка на каждом шаге и если это снижение меньше некоторой заранее заданной очень маленькой величины - выходите из цикла. Эту величину можно взять одну миллионную, например.\n",
        "5. Убедитесь, что алгоритм градиентного спуска завершается всегда - либо если ошибка перестает существенно меняться, либо при достижении максимального количества шагов.\n",
        "6. Реализуйте механизм адаптивной скорости обучения. Чтобы не задавать вручную параметр alpha можно отслеживать, увеличивается ли ошибка после первого шага градиентного спуска. В начале задаем скорость обучения близкой к 1. Если ошибка после одного шага увеличивается - скорость обучения надо уменьшить (например, в 2 раза). Если не увеличивается - скорость обучения можно не трогать. Еще подумайте, как после уменьшения скорости перезапускать градиентный спуск заново.\n",
        "7. Добавьте к классу модели метод рисования графиков. Сделайте так, чтобы он был независим от масштаба переданных данных."
      ]
    },
    {
      "cell_type": "code",
      "execution_count": 287,
      "metadata": {
        "id": "yH3putIIYAs2"
      },
      "outputs": [],
      "source": [
        "import numpy as np\n",
        "import pandas as pd\n",
        "import matplotlib.pyplot as plt"
      ]
    },
    {
      "cell_type": "code",
      "execution_count": 288,
      "metadata": {
        "id": "IVbQdN5PYDRe"
      },
      "outputs": [],
      "source": [
        "x = pd.read_csv('https://raw.githubusercontent.com/koroteevmv/ML_course/2023/ML1.1%20linear%20regression/data/x.csv')\n",
        "y = pd.read_csv('https://raw.githubusercontent.com/koroteevmv/ML_course/2023/ML1.1%20linear%20regression/data/y.csv')"
      ]
    },
    {
      "cell_type": "code",
      "execution_count": 289,
      "metadata": {
        "colab": {
          "base_uri": "https://localhost:8080/",
          "height": 206
        },
        "id": "SUkwEqFYYNF5",
        "outputId": "bc4cb162-7496-4ae2-96f4-a0e1655a8c88"
      },
      "outputs": [
        {
          "data": {
            "text/html": [
              "<div>\n",
              "<style scoped>\n",
              "    .dataframe tbody tr th:only-of-type {\n",
              "        vertical-align: middle;\n",
              "    }\n",
              "\n",
              "    .dataframe tbody tr th {\n",
              "        vertical-align: top;\n",
              "    }\n",
              "\n",
              "    .dataframe thead th {\n",
              "        text-align: right;\n",
              "    }\n",
              "</style>\n",
              "<table border=\"1\" class=\"dataframe\">\n",
              "  <thead>\n",
              "    <tr style=\"text-align: right;\">\n",
              "      <th></th>\n",
              "      <th>Unnamed: 0</th>\n",
              "      <th>0</th>\n",
              "    </tr>\n",
              "  </thead>\n",
              "  <tbody>\n",
              "    <tr>\n",
              "      <th>0</th>\n",
              "      <td>0</td>\n",
              "      <td>1.462108</td>\n",
              "    </tr>\n",
              "    <tr>\n",
              "      <th>1</th>\n",
              "      <td>1</td>\n",
              "      <td>1.133769</td>\n",
              "    </tr>\n",
              "    <tr>\n",
              "      <th>2</th>\n",
              "      <td>2</td>\n",
              "      <td>-2.301539</td>\n",
              "    </tr>\n",
              "    <tr>\n",
              "      <th>3</th>\n",
              "      <td>3</td>\n",
              "      <td>1.744812</td>\n",
              "    </tr>\n",
              "    <tr>\n",
              "      <th>4</th>\n",
              "      <td>4</td>\n",
              "      <td>0.042214</td>\n",
              "    </tr>\n",
              "  </tbody>\n",
              "</table>\n",
              "</div>"
            ],
            "text/plain": [
              "   Unnamed: 0         0\n",
              "0           0  1.462108\n",
              "1           1  1.133769\n",
              "2           2 -2.301539\n",
              "3           3  1.744812\n",
              "4           4  0.042214"
            ]
          },
          "execution_count": 289,
          "metadata": {},
          "output_type": "execute_result"
        }
      ],
      "source": [
        "x.head()"
      ]
    },
    {
      "cell_type": "code",
      "execution_count": 290,
      "metadata": {
        "id": "LUVFFZ8PYaQe"
      },
      "outputs": [],
      "source": [
        "x = pd.read_csv('https://raw.githubusercontent.com/koroteevmv/ML_course/2023/ML1.1%20linear%20regression/data/x.csv', index_col=0)['0']\n",
        "y = pd.read_csv('https://raw.githubusercontent.com/koroteevmv/ML_course/2023/ML1.1%20linear%20regression/data/y.csv', index_col=0)['0']"
      ]
    },
    {
      "cell_type": "code",
      "execution_count": 291,
      "metadata": {
        "colab": {
          "base_uri": "https://localhost:8080/"
        },
        "id": "kaK294StYicV",
        "outputId": "40e8b86f-b6c2-4284-acaa-a21ed96bc655"
      },
      "outputs": [
        {
          "data": {
            "text/plain": [
              "0    1.462108\n",
              "1    1.133769\n",
              "2   -2.301539\n",
              "3    1.744812\n",
              "4    0.042214\n",
              "Name: 0, dtype: float64"
            ]
          },
          "execution_count": 291,
          "metadata": {},
          "output_type": "execute_result"
        }
      ],
      "source": [
        "x.head()"
      ]
    },
    {
      "cell_type": "code",
      "execution_count": 292,
      "metadata": {
        "colab": {
          "base_uri": "https://localhost:8080/",
          "height": 430
        },
        "id": "N_2KXUjJYtE_",
        "outputId": "1d9f4a23-31e7-4d48-957b-d2423042ac2a"
      },
      "outputs": [
        {
          "data": {
            "image/png": "[encoded data removed]",
            "text/plain": [
              "<Figure size 640x480 with 1 Axes>"
            ]
          },
          "metadata": {},
          "output_type": "display_data"
        }
      ],
      "source": [
        "plt.figure()\n",
        "plt.scatter(x, y)\n",
        "plt.show()"
      ]
    },
    {
      "cell_type": "code",
      "execution_count": 294,
      "metadata": {},
      "outputs": [],
      "source": [
        "class Model(object):\n",
        "    \"\"\"Модель парной линейной регрессии\"\"\"\n",
        "    def __init__(self):\n",
        "        self.b0 = 0\n",
        "        self.b1 = 0\n",
        "    def predict(self, x):\n",
        "        return self.b0 + self.b1 * x    \n",
        "    def error(self, X, Y):    \n",
        "        return sum((self.predict(X) - Y)**2) / (2 * len(X)) \n",
        "    def fit(self, X, Y):  \n",
        "        alpha = 0.1\n",
        "        dJ0 = sum(self.predict(X) - Y) /len(X)\n",
        "        dJ1 = sum((self.predict(X) - Y) * X) /len(X)\n",
        "        self.b0 -= alpha * dJ0\n",
        "        self.b1 -= alpha * dJ1"
      ]
    },
    {
      "cell_type": "code",
      "execution_count": 295,
      "metadata": {},
      "outputs": [
        {
          "name": "stdout",
          "output_type": "stream",
          "text": [
            "0\n",
            "0\n",
            "initial error: 2937.6446095153406\n"
          ]
        }
      ],
      "source": [
        "hyp = Model()\n",
        "print(hyp.predict(0))\n",
        "print(hyp.predict(100))\n",
        "J = hyp.error(x, y)\n",
        "print(\"initial error:\", J)"
      ]
    },
    {
      "cell_type": "code",
      "execution_count": 296,
      "metadata": {
        "colab": {
          "base_uri": "https://localhost:8080/",
          "height": 430
        },
        "id": "3UzQcVCra_wX",
        "outputId": "95352b95-b242-4289-e797-ca538420cbc7"
      },
      "outputs": [
        {
          "data": {
            "image/png": "[encoded data removed]",
            "text/plain": [
              "<Figure size 640x480 with 1 Axes>"
            ]
          },
          "metadata": {},
          "output_type": "display_data"
        }
      ],
      "source": [
        "X0 = np.linspace(-3, 2, 100)\n",
        "Y0 = hyp.predict(X0)\n",
        "plt.figure()\n",
        "plt.scatter(x, y)\n",
        "plt.plot(X0, Y0, 'r')\n",
        "plt.show()"
      ]
    },
    {
      "cell_type": "code",
      "execution_count": 297,
      "metadata": {
        "colab": {
          "base_uri": "https://localhost:8080/"
        },
        "id": "ooYrvF96bDe0",
        "outputId": "4e79e17f-1931-43e8-d17c-bf19ae3823d3"
      },
      "outputs": [
        {
          "name": "stdout",
          "output_type": "stream",
          "text": [
            "error after gradient descent: 2253.7456808918546\n"
          ]
        }
      ],
      "source": [
        "hyp.fit(x, y)\n",
        "J = hyp.error(x, y)\n",
        "print(\"error after gradient descent:\", J)"
      ]
    },
    {
      "cell_type": "code",
      "execution_count": 298,
      "metadata": {
        "colab": {
          "base_uri": "https://localhost:8080/",
          "height": 430
        },
        "id": "uW3KD0Jqbo8f",
        "outputId": "0bcc4b46-f337-4db2-a47d-6d4ecd44ec12"
      },
      "outputs": [
        {
          "data": {
            "image/png": "[encoded data removed]",
            "text/plain": [
              "<Figure size 640x480 with 1 Axes>"
            ]
          },
          "metadata": {},
          "output_type": "display_data"
        }
      ],
      "source": [
        "X0 = np.linspace(-3, 2, 100)\n",
        "Y0 = hyp.predict(X0)\n",
        "plt.figure()\n",
        "plt.scatter(x, y)\n",
        "plt.plot(X0, Y0, 'r')\n",
        "plt.show()"
      ]
    },
    {
      "cell_type": "markdown",
      "metadata": {},
      "source": [
        "Задания для самостоятельного выполнения\n",
        "1. Проверьте работу модели с разными начальными значениями параметров. Убедитесь, что модель всегда сходится к оптимуму.\n"
      ]
    },
    {
      "cell_type": "code",
      "execution_count": null,
      "metadata": {},
      "outputs": [],
      "source": [
        "class Model(object):\n",
        "    \"\"\"Модель парной линейной регрессии\"\"\"\n",
        "    def __init__(self):\n",
        "        self.b0 = 10 \n",
        "        self.b1 = 1\n",
        "    def predict(self, X):\n",
        "        return self.b0 + self.b1 * X\n",
        "    def error(self, X, Y):\n",
        "        return sum(((self.predict(X) - Y)**2) / (2 * len(X)))\n",
        "    def fit(self, X, Y, alpha=0.001):\n",
        "        steps, errors = [], []\n",
        "        step = 0        \n",
        "        for _ in range(10000):\n",
        "            dJ0 = sum(self.predict(X) - Y) /len(X)\n",
        "            dJ1 = sum((self.predict(X) - Y) * X) /len(X)\n",
        "            self.b0 -= alpha * dJ0\n",
        "            self.b1 -= alpha * dJ1    \n",
        "            new_err = hyp.error(X, Y)\n",
        "            step += 1            \n",
        "            steps.append(step)\n",
        "            errors.append(new_err)\n",
        "        return steps, errors"
      ]
    },
    {
      "cell_type": "markdown",
      "metadata": {},
      "source": [
        "2. Проверьте работу модели с другими значениями скорости обучения. Найдите значение, при котором градиентный спуск расходится."
      ]
    },
    {
      "cell_type": "code",
      "execution_count": null,
      "metadata": {},
      "outputs": [],
      "source": [
        "class Model(object):\n",
        "    \"\"\"Модель парной линейной регрессии\"\"\"\n",
        "    def __init__(self):\n",
        "        self.b0 = 10 \n",
        "        self.b1 = 1\n",
        "    def predict(self, X):\n",
        "        return self.b0 + self.b1 * X\n",
        "    def error(self, X, Y):\n",
        "        return sum(((self.predict(X) - Y)**2) / (2 * len(X)))\n",
        "    def fit(self, X, Y, alpha=0.0005): \n",
        "        steps, errors = [], []\n",
        "        step = 0        \n",
        "        for _ in range(10000):\n",
        "            dJ0 = sum(self.predict(X) - Y) /len(X)\n",
        "            dJ1 = sum((self.predict(X) - Y) * X) /len(X)\n",
        "            self.b0 -= alpha * dJ0\n",
        "            self.b1 -= alpha * dJ1    \n",
        "            new_err = hyp.error(X, Y)\n",
        "            step += 1            \n",
        "            steps.append(step)\n",
        "            errors.append(new_err)\n",
        "        return steps, errors"
      ]
    },
    {
      "cell_type": "markdown",
      "metadata": {},
      "source": [
        "3. Модифицируйте код модели таким образом, чтобы он корректно работал как с Series, так и с DataFrame. При этом, конечно, датафрейм не должен содержать \"лишних\" столбцов."
      ]
    },
    {
      "cell_type": "code",
      "execution_count": 283,
      "metadata": {
        "id": "2YKAM2EAbubX"
      },
      "outputs": [],
      "source": [
        "class Model(object):\n",
        "    \"\"\"Модель парной линейной регрессии\"\"\"\n",
        "    def __init__(self):\n",
        "        self.b0 = 10 \n",
        "        self.b1 = 1\n",
        "    def predict(self, X):\n",
        "        return self.b0 + self.b1  *  X\n",
        "    def error(self, X, Y):\n",
        "        return sum(((self.predict(X) - Y)**2) / (2*len(X)))\n",
        "    def fit(self, X, Y, alpha=0.0005): \n",
        "        if isinstance(X, pd.DataFrame): \n",
        "            X = X.values\n",
        "        if isinstance(Y, pd.DataFrame):\n",
        "            Y = Y.values\n",
        "        steps, errors = [], []\n",
        "        step = 0        \n",
        "        for _ in range(2500):\n",
        "            dJ0 = sum(self.predict(X) - Y) /len(X)\n",
        "            dJ1 = sum((self.predict(X) - Y)  *  X) /len(X)\n",
        "            self.b0 -= alpha  *  dJ0\n",
        "            self.b1 -= alpha  *  dJ1    \n",
        "            new_err = self.error(X, Y)\n",
        "            step += 1            \n",
        "            steps.append(step)\n",
        "            errors.append(new_err)\n",
        "        return steps, errors"
      ]
    },
    {
      "cell_type": "markdown",
      "metadata": {},
      "source": [
        "4. Модифицируйте алгоритм градиентного спука таким образом, чтобы он останавливаля, если ошибка перестает снижаться. Для этого сравнивайте, на сколько понизилась ошибка на каждом шаге и если это снижение меньше некоторой заранее заданной очень маленькой величины - выходите из цикла. Эту величину можно взять одну миллионную, например."
      ]
    },
    {
      "cell_type": "code",
      "execution_count": 299,
      "metadata": {},
      "outputs": [],
      "source": [
        "class Model(object):\n",
        "    \"\"\"Модель парной линейной регрессии\"\"\"\n",
        "    def __init__(self):\n",
        "        self.b0 = 10\n",
        "        self.b1 = 1\n",
        "    def predict(self, X):\n",
        "        return self.b0 + self.b1 * X\n",
        "    def error(self, X, Y):\n",
        "        return sum(((self.predict(X) - Y) ** 2) / (2 * len(X)))\n",
        "    def fit(self, X, Y, alpha=0.0005, tolerance=0.000001, max_steps=5000):\n",
        "        if isinstance(X, pd.DataFrame): \n",
        "            X = X.values\n",
        "        if isinstance(Y, pd.DataFrame):\n",
        "            Y = Y.values\n",
        "        steps, errors = [], []\n",
        "        step = 0\n",
        "        prev_err = float('inf')\n",
        "        while step < max_steps:\n",
        "            dJ0 = sum(self.predict(X) - Y) / len(X)\n",
        "            dJ1 = sum((self.predict(X) - Y) * X) / len(X)\n",
        "            self.b0 -= alpha * dJ0\n",
        "            self.b1 -= alpha * dJ1\n",
        "            new_err = self.error(X, Y)\n",
        "            step += 1\n",
        "            steps.append(step)\n",
        "            errors.append(new_err)\n",
        "            if abs(new_err - prev_err) < tolerance:\n",
        "                break\n",
        "            prev_err = new_err\n",
        "        return steps, errors"
      ]
    },
    {
      "cell_type": "markdown",
      "metadata": {},
      "source": [
        "5. Убедитесь, что алгоритм градиентного спуска завершается всегда - либо если ошибка перестает существенно меняться, либо при достижении максимального количества шагов."
      ]
    },
    {
      "cell_type": "code",
      "execution_count": null,
      "metadata": {},
      "outputs": [],
      "source": [
        "class Model(object):\n",
        "    \"\"\"Модель парной линейной регрессии\"\"\"\n",
        "    def __init__(self):\n",
        "        self.b0 = 10\n",
        "        self.b1 = 1\n",
        "    def predict(self, X):\n",
        "        return self.b0 + self.b1 * X\n",
        "    def error(self, X, Y):\n",
        "        return sum(((self.predict(X) - Y) ** 2) / (2 * len(X)))\n",
        "    def fit(self, X, Y, alpha=0.0005, tolerance=0.000001, max_steps=5000):\n",
        "        if isinstance(X, pd.DataFrame): \n",
        "            X = X.values\n",
        "        if isinstance(Y, pd.DataFrame):\n",
        "            Y = Y.values\n",
        "        steps, errors = [], []\n",
        "        step = 0\n",
        "        prev_err = float('inf')\n",
        "        while step < max_steps:\n",
        "            dJ0 = sum(self.predict(X) - Y) / len(X)\n",
        "            dJ1 = sum((self.predict(X) - Y) * X) / len(X)\n",
        "            self.b0 -= alpha * dJ0\n",
        "            self.b1 -= alpha * dJ1\n",
        "            new_err = self.error(X, Y)\n",
        "            step += 1\n",
        "            steps.append(step)\n",
        "            errors.append(new_err)\n",
        "            if abs(new_err - prev_err) < tolerance:\n",
        "                break\n",
        "            prev_err = new_err\n",
        "        return steps, errors"
      ]
    },
    {
      "cell_type": "markdown",
      "metadata": {},
      "source": [
        "6. Реализуйте механизм адаптивной скорости обучения. Чтобы не задавать вручную параметр alpha можно отслеживать, увеличивается ли ошибка после первого шага градиентного спуска. В начале задаем скорость обучения близкой к 1. Если ошибка после одного шага увеличивается - скорость обучения надо уменьшить (например, в 2 раза). Если не увеличивается - скорость обучения можно не трогать. Еще подумайте, как после уменьшения скорости перезапускать градиентный спуск заново."
      ]
    },
    {
      "cell_type": "code",
      "execution_count": null,
      "metadata": {},
      "outputs": [],
      "source": [
        "class Model(object):\n",
        "    \"\"\"Модель парной линейной регрессии\"\"\"\n",
        "    def __init__(self):\n",
        "        self.b0 = 10\n",
        "        self.b1 = 1\n",
        "    def predict(self, X):\n",
        "        return self.b0 + self.b1 * X\n",
        "    def error(self, X, Y):\n",
        "        return sum(((self.predict(X) - Y) ** 2) / (2 * len(X)))\n",
        "    def fit(self, X, Y, alpha=1, tolerance=0.000001, max_steps=5000):\n",
        "        if isinstance(X, pd.DataFrame): \n",
        "            X = X.values\n",
        "        if isinstance(Y, pd.DataFrame):\n",
        "            Y = Y.values\n",
        "        steps, errors = [], []\n",
        "        step = 0\n",
        "        prev_err = float('inf')\n",
        "        while step < max_steps:\n",
        "            dJ0 = sum(self.predict(X) - Y) / len(X)\n",
        "            dJ1 = sum((self.predict(X) - Y) * X.flatten()) / len(X)\n",
        "            new_b0 = self.b0 - alpha * dJ0\n",
        "            new_b1 = self.b1 - alpha * dJ1\n",
        "            new_err = self.error(X, Y)\n",
        "            if new_err > prev_err:  \n",
        "                alpha /= 2\n",
        "                self.b0 = self.b0\n",
        "                self.b1 = self.b1\n",
        "            else:\n",
        "                self.b0 = new_b0\n",
        "                self.b1 = new_b1\n",
        "                prev_err = new_err\n",
        "            step += 1\n",
        "            steps.append(step)\n",
        "            errors.append(new_err)\n",
        "            if alpha < 0.000001:  \n",
        "                break\n",
        "        return steps, errors"
      ]
    },
    {
      "cell_type": "markdown",
      "metadata": {},
      "source": [
        "7. Добавьте к классу модели метод рисования графиков. Сделайте так, чтобы он был независим от масштаба переданных данных."
      ]
    },
    {
      "cell_type": "code",
      "execution_count": null,
      "metadata": {},
      "outputs": [],
      "source": [
        "class Model(object):\n",
        "    \"\"\"Модель парной линейной регрессии\"\"\"\n",
        "    def __init__(self):\n",
        "        self.b0 = 10\n",
        "        self.b1 = 1\n",
        "    def predict(self, X):\n",
        "        return self.b0 + self.b1 * X\n",
        "    def error(self, X, Y):\n",
        "        return sum(((self.predict(X) - Y) ** 2) / (2 * len(X)))\n",
        "    def fit(self, X, Y, alpha=1, tolerance=0.000001, max_steps=5000):\n",
        "        if isinstance(X, pd.DataFrame): \n",
        "            X = X.values\n",
        "        if isinstance(Y, pd.DataFrame):\n",
        "            Y = Y.values\n",
        "        steps, errors = [], []\n",
        "        step = 0\n",
        "        prev_err = float('inf')\n",
        "        while step < max_steps:\n",
        "            dJ0 = sum(self.predict(X) - Y) / len(X)\n",
        "            dJ1 = sum((self.predict(X) - Y) * X.flatten()) / len(X)\n",
        "            new_b0 = self.b0 - alpha * dJ0\n",
        "            new_b1 = self.b1 - alpha * dJ1\n",
        "            new_err = self.error(X, Y)\n",
        "            if new_err > prev_err: \n",
        "                alpha /= 2\n",
        "            else:\n",
        "                self.b0 = new_b0\n",
        "                self.b1 = new_b1\n",
        "                prev_err = new_err\n",
        "            step += 1\n",
        "            steps.append(step)\n",
        "            errors.append(new_err)\n",
        "            if alpha < 0.000001:  \n",
        "                break\n",
        "        return steps, errors\n",
        "    def plot_fit(self, X, Y):\n",
        "        plt.figure()\n",
        "        plt.scatter(X, Y, label='Data')\n",
        "        min_x, max_x = np.min(X), np.max(X)\n",
        "        min_y, max_y = self.predict(min_x), self.predict(max_x)\n",
        "        plt.plot([min_x, max_x], [min_y, max_y], color='red', label='Linear Regression')\n",
        "        plt.xlabel('X')\n",
        "        plt.ylabel('Y')\n",
        "        plt.legend()\n",
        "        plt.show()"
      ]
    },
    {
      "cell_type": "code",
      "execution_count": null,
      "metadata": {},
      "outputs": [],
      "source": [
        "# для 7ого пункта\n",
        "hyp = Model()\n",
        "steps, errors = hyp.fit(x, y)\n",
        "J = hyp.error(x, y)\n",
        "print(\"error after gradient descent:\", J) \n",
        "hyp.plot_fit(x, y)"
      ]
    },
    {
      "cell_type": "code",
      "execution_count": 300,
      "metadata": {},
      "outputs": [
        {
          "name": "stdout",
          "output_type": "stream",
          "text": [
            "error after gradient descent: 6.098822086274447\n"
          ]
        }
      ],
      "source": [
        "hyp = Model()\n",
        "steps, errors = hyp.fit(x, y)\n",
        "J = hyp.error(x, y)\n",
        "print(\"error after gradient descent:\", J) "
      ]
    },
    {
      "cell_type": "code",
      "execution_count": 301,
      "metadata": {
        "colab": {
          "base_uri": "https://localhost:8080/",
          "height": 430
        },
        "id": "ezMdx69bdV1F",
        "outputId": "831ca89c-9125-4bd8-acdc-9d9aa4ed49b1"
      },
      "outputs": [
        {
          "data": {
            "image/png": "[encoded data removed]",
            "text/plain": [
              "<Figure size 640x480 with 1 Axes>"
            ]
          },
          "metadata": {},
          "output_type": "display_data"
        }
      ],
      "source": [
        "X0 = np.linspace(-3, 2, 100)\n",
        "Y0 = hyp.predict(X0)\n",
        "plt.figure()\n",
        "plt.scatter(x, y)\n",
        "plt.plot(X0, Y0, 'r')\n",
        "plt.show()"
      ]
    },
    {
      "cell_type": "code",
      "execution_count": 302,
      "metadata": {
        "colab": {
          "base_uri": "https://localhost:8080/",
          "height": 430
        },
        "id": "Da8GymmldraL",
        "outputId": "2b9fa56e-50c8-4e88-e901-dddb44dc9d20"
      },
      "outputs": [
        {
          "data": {
            "image/png": "[encoded data removed]",
            "text/plain": [
              "<Figure size 640x480 with 1 Axes>"
            ]
          },
          "metadata": {},
          "output_type": "display_data"
        }
      ],
      "source": [
        "plt.figure()\n",
        "plt.plot(steps, errors, 'g')\n",
        "plt.show()"
      ]
    }
  ],
  "metadata": {
    "colab": {
      "provenance": []
    },
    "kernelspec": {
      "display_name": "Python 3",
      "name": "python3"
    },
    "language_info": {
      "codemirror_mode": {
        "name": "ipython",
        "version": 3
      },
      "file_extension": ".py",
      "mimetype": "text/x-python",
      "name": "python",
      "nbconvert_exporter": "python",
      "pygments_lexer": "ipython3",
      "version": "3.10.11"
    }
  },
  "nbformat": 4,
  "nbformat_minor": 0
}
