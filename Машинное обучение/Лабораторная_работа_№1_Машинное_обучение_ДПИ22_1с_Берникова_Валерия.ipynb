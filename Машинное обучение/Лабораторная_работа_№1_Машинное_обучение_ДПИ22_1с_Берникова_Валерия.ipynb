{
  "cells": [
    {
      "cell_type": "markdown",
      "metadata": {
        "id": "rNogWOQYBwQc"
      },
      "source": [
        "# **Простой анализ данных**"
      ]
    },
    {
      "cell_type": "markdown",
      "metadata": {},
      "source": [
        "Лабораторная_работа_№1_Машинное_обучение_ДПИ22_1с_Берникова_Валерия"
      ]
    },
    {
      "cell_type": "markdown",
      "metadata": {
        "id": "gOYLUiDFHZwk"
      },
      "source": [
        "**Цель работы**\n",
        "\n",
        "Освоить основные приемы работы с библиотекой pandas для простого статистического анализа данных."
      ]
    },
    {
      "cell_type": "markdown",
      "metadata": {
        "id": "P9wh5KOMHd0j"
      },
      "source": [
        "**Задания для выполнения**\n",
        "\n",
        "\n",
        "Вам даны данные результатов ЕГЭ по различным предметам. Выполните следующие действия: "
      ]
    },
    {
      "cell_type": "markdown",
      "metadata": {
        "id": "77cw96kaHl4h"
      },
      "source": [
        "1. Загрузите данные по вариантам в ноутбук.\n",
        "2. Сделайте описательную статистику полученных данных.\n",
        "3. Найдите процент учащихся, выполнивших работу ниже среднего.\n",
        "4. Найти процент учащихся не сдавших экзамен.\n",
        "5. Постройте круговую диаграмму, показывающую распределение сдавших и не сдавших экзамен.\n",
        "6. Постройте ядерную оценку плотности распределению баллов за экзамен.\n",
        "7. Найдите процентное соотношение учащихся, сдавших экзамен на «отлично», «хорошо», «удовлетворительно», «неудовлетворительно».\n",
        "8. Какое процентное соотношение юношей и девушек писало данный экзамен?\n",
        "9. Сколько школ принимало участие в экзамене?\n",
        "10. Сколько всего заданий с кратким ответом? С развернутым ответом?\n",
        "11. Пусть задания с кратким ответом будут задания типа В. Соответственно всего по экзамену вопросов класса В: Вi, ... Вк Посчитайте процент выполненных и невыполненных заданий по каждому вопросу класса В.\n",
        "12. Аналогично и с типом С (ответы с развернутым ответом)\n",
        "13. Сделайте анализ по двум школам:\n",
        "\n",
        "a)  по всем выполненным заданиям типа В\n",
        "\n",
        "b)  по заданиям типа С больше 50%\n",
        "\n",
        "c)по среднему баллу юношей и девушек\n",
        "14. Для каждого задания добавьте соответствующий раздел в ноутбук и текстовые пояснения.\n"
      ]
    },
    {
      "cell_type": "markdown",
      "metadata": {
        "id": "_NYZCc7gJKL3"
      },
      "source": [
        "Библиотека языка Python:"
      ]
    },
    {
      "cell_type": "code",
      "execution_count": 2,
      "metadata": {
        "id": "kGd1GNhsI9Hu"
      },
      "outputs": [],
      "source": [
        "import pandas as pd\n",
        "import seaborn as sns\n",
        "import matplotlib.pyplot as plt"
      ]
    },
    {
      "cell_type": "markdown",
      "metadata": {
        "id": "K5-JdN6DJI9Z"
      },
      "source": [
        "Загрузите данные по вариантам в ноутбук:"
      ]
    },
    {
      "cell_type": "code",
      "execution_count": 3,
      "metadata": {
        "colab": {
          "base_uri": "https://localhost:8080/",
          "height": 298
        },
        "id": "vuvvTtybAe69",
        "outputId": "3f70c8ba-2c71-4991-9195-870b8359f02a"
      },
      "outputs": [],
      "source": [
        "x = pd.read_excel('Вариант 1.xlsx', skiprows=2, index_col=0)"
      ]
    },
    {
      "cell_type": "code",
      "execution_count": 4,
      "metadata": {
        "colab": {
          "base_uri": "https://localhost:8080/",
          "height": 237
        },
        "id": "o_hedwisA6Yu",
        "outputId": "cb1089e2-33a3-49f4-cf7d-82a6cfc320e2"
      },
      "outputs": [
        {
          "data": {
            "text/html": [
              "<div>\n",
              "<style scoped>\n",
              "    .dataframe tbody tr th:only-of-type {\n",
              "        vertical-align: middle;\n",
              "    }\n",
              "\n",
              "    .dataframe tbody tr th {\n",
              "        vertical-align: top;\n",
              "    }\n",
              "\n",
              "    .dataframe thead th {\n",
              "        text-align: right;\n",
              "    }\n",
              "</style>\n",
              "<table border=\"1\" class=\"dataframe\">\n",
              "  <thead>\n",
              "    <tr style=\"text-align: right;\">\n",
              "      <th></th>\n",
              "      <th>№ школы</th>\n",
              "      <th>Класс</th>\n",
              "      <th>Пол</th>\n",
              "      <th>Номер варианта</th>\n",
              "      <th>Задания с кратким ответом</th>\n",
              "      <th>Задания с развёрнутым ответом</th>\n",
              "      <th>Устная часть</th>\n",
              "      <th>Первичный балл</th>\n",
              "      <th>Балл</th>\n",
              "      <th>Минимальный балл</th>\n",
              "    </tr>\n",
              "    <tr>\n",
              "      <th>№</th>\n",
              "      <th></th>\n",
              "      <th></th>\n",
              "      <th></th>\n",
              "      <th></th>\n",
              "      <th></th>\n",
              "      <th></th>\n",
              "      <th></th>\n",
              "      <th></th>\n",
              "      <th></th>\n",
              "      <th></th>\n",
              "    </tr>\n",
              "  </thead>\n",
              "  <tbody>\n",
              "    <tr>\n",
              "      <th>1</th>\n",
              "      <td>117</td>\n",
              "      <td>11</td>\n",
              "      <td>М</td>\n",
              "      <td>341</td>\n",
              "      <td>1+++--1+-++---0---------0</td>\n",
              "      <td>0(1)0(3)0(1)0(3)0(2)0(2)0(3)0(3)0(2)0(2)0(1)0(1)</td>\n",
              "      <td>NaN</td>\n",
              "      <td>8</td>\n",
              "      <td>20</td>\n",
              "      <td>24</td>\n",
              "    </tr>\n",
              "    <tr>\n",
              "      <th>2</th>\n",
              "      <td>148</td>\n",
              "      <td>12А</td>\n",
              "      <td>М</td>\n",
              "      <td>338</td>\n",
              "      <td>1+---+0--+---+0----++-+-0</td>\n",
              "      <td>0(1)0(3)0(1)0(3)0(2)0(2)0(3)0(3)0(2)0(2)0(1)0(1)</td>\n",
              "      <td>NaN</td>\n",
              "      <td>8</td>\n",
              "      <td>20</td>\n",
              "      <td>24</td>\n",
              "    </tr>\n",
              "    <tr>\n",
              "      <th>3</th>\n",
              "      <td>152</td>\n",
              "      <td>13</td>\n",
              "      <td>Ж</td>\n",
              "      <td>104</td>\n",
              "      <td>2-----0--+----1---------1</td>\n",
              "      <td>0(1)0(3)0(1)0(3)0(2)0(2)0(3)1(3)0(2)1(2)1(1)1(1)</td>\n",
              "      <td>NaN</td>\n",
              "      <td>9</td>\n",
              "      <td>22</td>\n",
              "      <td>24</td>\n",
              "    </tr>\n",
              "    <tr>\n",
              "      <th>4</th>\n",
              "      <td>152</td>\n",
              "      <td>13</td>\n",
              "      <td>М</td>\n",
              "      <td>104</td>\n",
              "      <td>1+--+-0++-----2----++---0</td>\n",
              "      <td>0(1)0(3)0(1)0(3)0(2)0(2)0(3)0(3)0(2)0(2)0(1)0(1)</td>\n",
              "      <td>NaN</td>\n",
              "      <td>9</td>\n",
              "      <td>22</td>\n",
              "      <td>24</td>\n",
              "    </tr>\n",
              "    <tr>\n",
              "      <th>5</th>\n",
              "      <td>132</td>\n",
              "      <td>11</td>\n",
              "      <td>М</td>\n",
              "      <td>337</td>\n",
              "      <td>1++---0-+++---1----+----2</td>\n",
              "      <td>0(1)0(3)0(1)0(3)0(2)0(2)0(3)0(3)0(2)0(2)0(1)0(1)</td>\n",
              "      <td>NaN</td>\n",
              "      <td>10</td>\n",
              "      <td>24</td>\n",
              "      <td>24</td>\n",
              "    </tr>\n",
              "  </tbody>\n",
              "</table>\n",
              "</div>"
            ],
            "text/plain": [
              "   № школы Класс Пол  Номер варианта  Задания с кратким ответом  \\\n",
              "№                                                                 \n",
              "1      117    11   М             341  1+++--1+-++---0---------0   \n",
              "2      148   12А   М             338  1+---+0--+---+0----++-+-0   \n",
              "3      152    13   Ж             104  2-----0--+----1---------1   \n",
              "4      152    13   М             104  1+--+-0++-----2----++---0   \n",
              "5      132    11   М             337  1++---0-+++---1----+----2   \n",
              "\n",
              "                      Задания с развёрнутым ответом  Устная часть  \\\n",
              "№                                                                   \n",
              "1  0(1)0(3)0(1)0(3)0(2)0(2)0(3)0(3)0(2)0(2)0(1)0(1)           NaN   \n",
              "2  0(1)0(3)0(1)0(3)0(2)0(2)0(3)0(3)0(2)0(2)0(1)0(1)           NaN   \n",
              "3  0(1)0(3)0(1)0(3)0(2)0(2)0(3)1(3)0(2)1(2)1(1)1(1)           NaN   \n",
              "4  0(1)0(3)0(1)0(3)0(2)0(2)0(3)0(3)0(2)0(2)0(1)0(1)           NaN   \n",
              "5  0(1)0(3)0(1)0(3)0(2)0(2)0(3)0(3)0(2)0(2)0(1)0(1)           NaN   \n",
              "\n",
              "   Первичный балл  Балл  Минимальный балл  \n",
              "№                                          \n",
              "1               8    20                24  \n",
              "2               8    20                24  \n",
              "3               9    22                24  \n",
              "4               9    22                24  \n",
              "5              10    24                24  "
            ]
          },
          "execution_count": 4,
          "metadata": {},
          "output_type": "execute_result"
        }
      ],
      "source": [
        "x.head()"
      ]
    },
    {
      "cell_type": "markdown",
      "metadata": {
        "id": "KRcDLAGrJVXb"
      },
      "source": [
        "Сделайте описательную статистику полученных данных:"
      ]
    },
    {
      "cell_type": "code",
      "execution_count": 5,
      "metadata": {
        "colab": {
          "base_uri": "https://localhost:8080/",
          "height": 411
        },
        "id": "g5uLtDLNICwG",
        "outputId": "2445eb3f-3bd4-46e5-b3b8-0d3ff577e21b"
      },
      "outputs": [
        {
          "data": {
            "text/html": [
              "<div>\n",
              "<style scoped>\n",
              "    .dataframe tbody tr th:only-of-type {\n",
              "        vertical-align: middle;\n",
              "    }\n",
              "\n",
              "    .dataframe tbody tr th {\n",
              "        vertical-align: top;\n",
              "    }\n",
              "\n",
              "    .dataframe thead th {\n",
              "        text-align: right;\n",
              "    }\n",
              "</style>\n",
              "<table border=\"1\" class=\"dataframe\">\n",
              "  <thead>\n",
              "    <tr style=\"text-align: right;\">\n",
              "      <th></th>\n",
              "      <th>№ школы</th>\n",
              "      <th>Класс</th>\n",
              "      <th>Пол</th>\n",
              "      <th>Номер варианта</th>\n",
              "      <th>Задания с кратким ответом</th>\n",
              "      <th>Задания с развёрнутым ответом</th>\n",
              "      <th>Устная часть</th>\n",
              "      <th>Первичный балл</th>\n",
              "      <th>Балл</th>\n",
              "      <th>Минимальный балл</th>\n",
              "    </tr>\n",
              "  </thead>\n",
              "  <tbody>\n",
              "    <tr>\n",
              "      <th>count</th>\n",
              "      <td>3048.000000</td>\n",
              "      <td>3048.0</td>\n",
              "      <td>3048</td>\n",
              "      <td>3048.000000</td>\n",
              "      <td>3048</td>\n",
              "      <td>3048</td>\n",
              "      <td>0.0</td>\n",
              "      <td>3048.000000</td>\n",
              "      <td>3048.000000</td>\n",
              "      <td>3048.0</td>\n",
              "    </tr>\n",
              "    <tr>\n",
              "      <th>unique</th>\n",
              "      <td>NaN</td>\n",
              "      <td>13.0</td>\n",
              "      <td>2</td>\n",
              "      <td>NaN</td>\n",
              "      <td>2516</td>\n",
              "      <td>1352</td>\n",
              "      <td>NaN</td>\n",
              "      <td>NaN</td>\n",
              "      <td>NaN</td>\n",
              "      <td>NaN</td>\n",
              "    </tr>\n",
              "    <tr>\n",
              "      <th>top</th>\n",
              "      <td>NaN</td>\n",
              "      <td>11.0</td>\n",
              "      <td>Ж</td>\n",
              "      <td>NaN</td>\n",
              "      <td>2+++++5+++++++2++++++++-4</td>\n",
              "      <td>1(1)3(3)1(1)3(3)2(2)2(2)3(3)3(3)2(2)2(2)1(1)1(1)</td>\n",
              "      <td>NaN</td>\n",
              "      <td>NaN</td>\n",
              "      <td>NaN</td>\n",
              "      <td>NaN</td>\n",
              "    </tr>\n",
              "    <tr>\n",
              "      <th>freq</th>\n",
              "      <td>NaN</td>\n",
              "      <td>2428.0</td>\n",
              "      <td>1767</td>\n",
              "      <td>NaN</td>\n",
              "      <td>92</td>\n",
              "      <td>84</td>\n",
              "      <td>NaN</td>\n",
              "      <td>NaN</td>\n",
              "      <td>NaN</td>\n",
              "      <td>NaN</td>\n",
              "    </tr>\n",
              "    <tr>\n",
              "      <th>mean</th>\n",
              "      <td>138.753281</td>\n",
              "      <td>NaN</td>\n",
              "      <td>NaN</td>\n",
              "      <td>340.787730</td>\n",
              "      <td>NaN</td>\n",
              "      <td>NaN</td>\n",
              "      <td>NaN</td>\n",
              "      <td>43.573491</td>\n",
              "      <td>72.769029</td>\n",
              "      <td>24.0</td>\n",
              "    </tr>\n",
              "    <tr>\n",
              "      <th>std</th>\n",
              "      <td>41.793413</td>\n",
              "      <td>NaN</td>\n",
              "      <td>NaN</td>\n",
              "      <td>39.077186</td>\n",
              "      <td>NaN</td>\n",
              "      <td>NaN</td>\n",
              "      <td>NaN</td>\n",
              "      <td>8.931816</td>\n",
              "      <td>13.664908</td>\n",
              "      <td>0.0</td>\n",
              "    </tr>\n",
              "    <tr>\n",
              "      <th>min</th>\n",
              "      <td>104.000000</td>\n",
              "      <td>NaN</td>\n",
              "      <td>NaN</td>\n",
              "      <td>101.000000</td>\n",
              "      <td>NaN</td>\n",
              "      <td>NaN</td>\n",
              "      <td>NaN</td>\n",
              "      <td>8.000000</td>\n",
              "      <td>20.000000</td>\n",
              "      <td>24.0</td>\n",
              "    </tr>\n",
              "    <tr>\n",
              "      <th>25%</th>\n",
              "      <td>126.000000</td>\n",
              "      <td>NaN</td>\n",
              "      <td>NaN</td>\n",
              "      <td>339.000000</td>\n",
              "      <td>NaN</td>\n",
              "      <td>NaN</td>\n",
              "      <td>NaN</td>\n",
              "      <td>38.000000</td>\n",
              "      <td>64.000000</td>\n",
              "      <td>24.0</td>\n",
              "    </tr>\n",
              "    <tr>\n",
              "      <th>50%</th>\n",
              "      <td>144.000000</td>\n",
              "      <td>NaN</td>\n",
              "      <td>NaN</td>\n",
              "      <td>342.000000</td>\n",
              "      <td>NaN</td>\n",
              "      <td>NaN</td>\n",
              "      <td>NaN</td>\n",
              "      <td>45.000000</td>\n",
              "      <td>72.000000</td>\n",
              "      <td>24.0</td>\n",
              "    </tr>\n",
              "    <tr>\n",
              "      <th>75%</th>\n",
              "      <td>148.000000</td>\n",
              "      <td>NaN</td>\n",
              "      <td>NaN</td>\n",
              "      <td>346.000000</td>\n",
              "      <td>NaN</td>\n",
              "      <td>NaN</td>\n",
              "      <td>NaN</td>\n",
              "      <td>50.000000</td>\n",
              "      <td>82.000000</td>\n",
              "      <td>24.0</td>\n",
              "    </tr>\n",
              "    <tr>\n",
              "      <th>max</th>\n",
              "      <td>1106.000000</td>\n",
              "      <td>NaN</td>\n",
              "      <td>NaN</td>\n",
              "      <td>706.000000</td>\n",
              "      <td>NaN</td>\n",
              "      <td>NaN</td>\n",
              "      <td>NaN</td>\n",
              "      <td>58.000000</td>\n",
              "      <td>100.000000</td>\n",
              "      <td>24.0</td>\n",
              "    </tr>\n",
              "  </tbody>\n",
              "</table>\n",
              "</div>"
            ],
            "text/plain": [
              "            № школы   Класс   Пол  Номер варианта  Задания с кратким ответом  \\\n",
              "count   3048.000000  3048.0  3048     3048.000000                       3048   \n",
              "unique          NaN    13.0     2             NaN                       2516   \n",
              "top             NaN    11.0     Ж             NaN  2+++++5+++++++2++++++++-4   \n",
              "freq            NaN  2428.0  1767             NaN                         92   \n",
              "mean     138.753281     NaN   NaN      340.787730                        NaN   \n",
              "std       41.793413     NaN   NaN       39.077186                        NaN   \n",
              "min      104.000000     NaN   NaN      101.000000                        NaN   \n",
              "25%      126.000000     NaN   NaN      339.000000                        NaN   \n",
              "50%      144.000000     NaN   NaN      342.000000                        NaN   \n",
              "75%      148.000000     NaN   NaN      346.000000                        NaN   \n",
              "max     1106.000000     NaN   NaN      706.000000                        NaN   \n",
              "\n",
              "                           Задания с развёрнутым ответом  Устная часть  \\\n",
              "count                                               3048           0.0   \n",
              "unique                                              1352           NaN   \n",
              "top     1(1)3(3)1(1)3(3)2(2)2(2)3(3)3(3)2(2)2(2)1(1)1(1)           NaN   \n",
              "freq                                                  84           NaN   \n",
              "mean                                                 NaN           NaN   \n",
              "std                                                  NaN           NaN   \n",
              "min                                                  NaN           NaN   \n",
              "25%                                                  NaN           NaN   \n",
              "50%                                                  NaN           NaN   \n",
              "75%                                                  NaN           NaN   \n",
              "max                                                  NaN           NaN   \n",
              "\n",
              "        Первичный балл         Балл  Минимальный балл  \n",
              "count      3048.000000  3048.000000            3048.0  \n",
              "unique             NaN          NaN               NaN  \n",
              "top                NaN          NaN               NaN  \n",
              "freq               NaN          NaN               NaN  \n",
              "mean         43.573491    72.769029              24.0  \n",
              "std           8.931816    13.664908               0.0  \n",
              "min           8.000000    20.000000              24.0  \n",
              "25%          38.000000    64.000000              24.0  \n",
              "50%          45.000000    72.000000              24.0  \n",
              "75%          50.000000    82.000000              24.0  \n",
              "max          58.000000   100.000000              24.0  "
            ]
          },
          "execution_count": 5,
          "metadata": {},
          "output_type": "execute_result"
        }
      ],
      "source": [
        "x.describe (include='all')"
      ]
    },
    {
      "cell_type": "markdown",
      "metadata": {
        "id": "jHid0tq_JXyU"
      },
      "source": [
        "Найдите процент учащихся, выполнивших работу ниже среднего:\n",
        "сначало находим среднее по баллу, а потом всё что ниже среднего"
      ]
    },
    {
      "cell_type": "code",
      "execution_count": 6,
      "metadata": {
        "id": "7UfW_dC7Xwmx"
      },
      "outputs": [],
      "source": [
        "средняя_оценка = x['Балл'].mean()"
      ]
    },
    {
      "cell_type": "code",
      "execution_count": 7,
      "metadata": {
        "id": "ix2_1YhfX_qS"
      },
      "outputs": [],
      "source": [
        "ниже_среднего = x[x['Балл'] < средняя_оценка].shape[0]"
      ]
    },
    {
      "cell_type": "code",
      "execution_count": 8,
      "metadata": {
        "id": "0UP1f-zVYEMk"
      },
      "outputs": [],
      "source": [
        "процент_ниже_среднего = (ниже_среднего / x.shape[0]) * 100"
      ]
    },
    {
      "cell_type": "code",
      "execution_count": 9,
      "metadata": {
        "colab": {
          "base_uri": "https://localhost:8080/"
        },
        "id": "XWpi7DE3YGts",
        "outputId": "7311ebe6-8f49-4e18-9ab2-aa926271fe7a"
      },
      "outputs": [
        {
          "data": {
            "text/plain": [
              "51.27952755905512"
            ]
          },
          "execution_count": 9,
          "metadata": {},
          "output_type": "execute_result"
        }
      ],
      "source": [
        "процент_ниже_среднего"
      ]
    },
    {
      "cell_type": "markdown",
      "metadata": {
        "id": "ZWdzhxXXfWfW"
      },
      "source": [
        "Найти процент учащихся не сдавших экзамен:"
      ]
    },
    {
      "cell_type": "code",
      "execution_count": 10,
      "metadata": {
        "id": "rH1zJjJKfbmY"
      },
      "outputs": [],
      "source": [
        "не_сдавших_экзамен = x[x['Балл'] < x['Минимальный балл']].shape[0] # Подсчет количества учащихся, не сдавших экзамен"
      ]
    },
    {
      "cell_type": "code",
      "execution_count": 11,
      "metadata": {
        "id": "9M2MopX4Tgxn"
      },
      "outputs": [],
      "source": [
        "количество_учащихся = x.shape[0] # Подсчет общего количества учащихся"
      ]
    },
    {
      "cell_type": "code",
      "execution_count": 12,
      "metadata": {
        "id": "o2-d6f2nTnrO"
      },
      "outputs": [],
      "source": [
        "процента_не_сдавших = (не_сдавших_экзамен / количество_учащихся) * 100 # Вычисление процента не сдавших экзамен учащихся"
      ]
    },
    {
      "cell_type": "code",
      "execution_count": 13,
      "metadata": {
        "colab": {
          "base_uri": "https://localhost:8080/"
        },
        "id": "Z-aPdhdZT2ET",
        "outputId": "6d2577b2-3732-474c-dd58-1870e86fee8f"
      },
      "outputs": [
        {
          "data": {
            "text/plain": [
              "0.13123359580052493"
            ]
          },
          "execution_count": 13,
          "metadata": {},
          "output_type": "execute_result"
        }
      ],
      "source": [
        "процента_не_сдавших"
      ]
    },
    {
      "cell_type": "markdown",
      "metadata": {
        "id": "_yrBpLtDUehF"
      },
      "source": [
        "Постройте круговую диаграмму, показывающую распределение сдавших и не сдавших экзамен."
      ]
    },
    {
      "cell_type": "code",
      "execution_count": 14,
      "metadata": {
        "id": "kpTxI87kdDkX"
      },
      "outputs": [],
      "source": [
        "сдавшие_экзамен = x[x['Балл'] >= x['Минимальный балл']].shape[0]"
      ]
    },
    {
      "cell_type": "code",
      "execution_count": 15,
      "metadata": {
        "id": "37Qb98CIdOoI"
      },
      "outputs": [],
      "source": [
        "процент_сдавших = (сдавшие_экзамен/x.shape[0])*100"
      ]
    },
    {
      "cell_type": "code",
      "execution_count": 16,
      "metadata": {
        "id": "hlgmzJn6X0HT"
      },
      "outputs": [],
      "source": [
        "значение = 'не сдали','сдали'"
      ]
    },
    {
      "cell_type": "code",
      "execution_count": 17,
      "metadata": {
        "id": "dAmSE3gzdIRO"
      },
      "outputs": [],
      "source": [
        "студенты = [процента_не_сдавших, процент_сдавших]"
      ]
    },
    {
      "cell_type": "code",
      "execution_count": 18,
      "metadata": {
        "colab": {
          "base_uri": "https://localhost:8080/",
          "height": 406
        },
        "id": "Mw9RtOXVdmi1",
        "outputId": "a481eda2-db9b-4083-ac53-a28da76e9e7a"
      },
      "outputs": [
        {
          "data": {
            "image/png": "[encoded data removed]",
            "text/plain": [
              "<Figure size 640x480 with 1 Axes>"
            ]
          },
          "metadata": {},
          "output_type": "display_data"
        }
      ],
      "source": [
        "fig1, ax1 = plt.subplots()\n",
        "ax1.pie(студенты, labels=значение, autopct='%1.1f%%')\n",
        "plt.show()"
      ]
    },
    {
      "cell_type": "markdown",
      "metadata": {
        "id": "TGkqbYdid2VI"
      },
      "source": [
        "Постройте ядерную оценку плотности распределению баллов за экзамен."
      ]
    },
    {
      "cell_type": "code",
      "execution_count": 19,
      "metadata": {
        "colab": {
          "base_uri": "https://localhost:8080/",
          "height": 472
        },
        "id": "Q2kmciHudzoe",
        "outputId": "41fe5daa-d373-4704-f2aa-e5bdf14ca6cf"
      },
      "outputs": [
        {
          "data": {
            "image/png": "[encoded data removed]",
            "text/plain": [
              "<Figure size 640x480 with 1 Axes>"
            ]
          },
          "metadata": {},
          "output_type": "display_data"
        }
      ],
      "source": [
        "# Построение ядерной оценки плотности распределения\n",
        "sns.kdeplot(x['Балл'])\n",
        "plt.xlabel('Баллы за экзамен')\n",
        "plt.ylabel('Плотность')\n",
        "plt.title('Ядерная оценка плотности распределения баллов за экзамен')\n",
        "plt.show()"
      ]
    },
    {
      "cell_type": "markdown",
      "metadata": {
        "id": "fnkajKP1eKAk"
      },
      "source": [
        "Найдите процентное соотношение учащихся, сдавших экзамен на «отлично», «хорошо», «удовлетворительно», «неудовлетворительно»."
      ]
    },
    {
      "cell_type": "code",
      "execution_count": null,
      "metadata": {
        "id": "7dz-oTVaeKnB"
      },
      "outputs": [],
      "source": [
        "# Критерии:\n",
        "# 0 — 24: 2 «неудовлетворительно»\n",
        "# 24 — 50: 3 «удовлетворительно»\n",
        "# 51 — 75: 4 «хорошо»\n",
        "# 76 — 100: 5 «отлично»"
      ]
    },
    {
      "cell_type": "code",
      "execution_count": 20,
      "metadata": {
        "id": "O6scu7SzC1nj"
      },
      "outputs": [],
      "source": [
        "отлично = x[(x['Балл'] >= 76) & (x['Балл'] <= 100)].count()\n",
        "хорошо = x[(x['Балл'] >= 51) & (x['Балл'] <= 75)].count()\n",
        "удовлетворительно = x[(x['Балл'] >= 24) & (x['Балл'] <= 50)].count()\n",
        "неудовлетворительно = x[(x['Балл'] >= 0) & (x['Балл'] < 24)].count()"
      ]
    },
    {
      "cell_type": "code",
      "execution_count": 21,
      "metadata": {
        "id": "NMjOPetHDC7V"
      },
      "outputs": [],
      "source": [
        "общее_количество = len(x)\n",
        "процент_отлично = отлично / общее_количество * 100\n",
        "процент_хорошо = хорошо / общее_количество * 100\n",
        "процент_удовлетворительно = удовлетворительно / общее_количество * 100\n",
        "процент_неудовлетворительно = неудовлетворительно / общее_количество * 100"
      ]
    },
    {
      "cell_type": "code",
      "execution_count": 22,
      "metadata": {
        "colab": {
          "base_uri": "https://localhost:8080/"
        },
        "id": "GTBVuGHqDHPz",
        "outputId": "f4a64ce8-4571-4a91-f9c4-efc4b10a35f8"
      },
      "outputs": [
        {
          "data": {
            "text/plain": [
              "44.12729658792651"
            ]
          },
          "execution_count": 22,
          "metadata": {},
          "output_type": "execute_result"
        }
      ],
      "source": [
        "процент_отлично['Балл']"
      ]
    },
    {
      "cell_type": "code",
      "execution_count": 23,
      "metadata": {
        "colab": {
          "base_uri": "https://localhost:8080/"
        },
        "id": "giOSF2XiDImG",
        "outputId": "bcb22353-6820-42ba-973c-1f0e97665231"
      },
      "outputs": [
        {
          "data": {
            "text/plain": [
              "50.22965879265092"
            ]
          },
          "execution_count": 23,
          "metadata": {},
          "output_type": "execute_result"
        }
      ],
      "source": [
        "процент_хорошо['Балл']"
      ]
    },
    {
      "cell_type": "code",
      "execution_count": 24,
      "metadata": {
        "colab": {
          "base_uri": "https://localhost:8080/"
        },
        "id": "ceAngtdqDJrC",
        "outputId": "9e489196-679c-44f4-e721-d10de843accd"
      },
      "outputs": [
        {
          "data": {
            "text/plain": [
              "5.511811023622047"
            ]
          },
          "execution_count": 24,
          "metadata": {},
          "output_type": "execute_result"
        }
      ],
      "source": [
        "процент_удовлетворительно['Балл']"
      ]
    },
    {
      "cell_type": "code",
      "execution_count": 25,
      "metadata": {
        "colab": {
          "base_uri": "https://localhost:8080/"
        },
        "id": "XOTCRtLKDLuc",
        "outputId": "69a8d7dd-656e-4ab1-8ba9-207bd0a12ff7"
      },
      "outputs": [
        {
          "data": {
            "text/plain": [
              "0.13123359580052493"
            ]
          },
          "execution_count": 25,
          "metadata": {},
          "output_type": "execute_result"
        }
      ],
      "source": [
        "процент_неудовлетворительно['Балл']"
      ]
    },
    {
      "cell_type": "markdown",
      "metadata": {
        "id": "QZF1Q5gmeMTI"
      },
      "source": [
        "Какое процентное соотношение юношей и девушек писало данный экзамен?"
      ]
    },
    {
      "cell_type": "code",
      "execution_count": 26,
      "metadata": {
        "id": "p5C1NBiReNV2"
      },
      "outputs": [],
      "source": [
        "# Посчитать количество юношей и девушек в данных:\n",
        "количество_мужчин = x[x['Пол'] == 'М'].count()\n",
        "количество_женщин = x[x['Пол'] == 'Ж'].count()"
      ]
    },
    {
      "cell_type": "code",
      "execution_count": 27,
      "metadata": {
        "colab": {
          "base_uri": "https://localhost:8080/"
        },
        "id": "Bb-XC90Ky-sG",
        "outputId": "17d85849-0031-4b07-90f8-41673b2c8a0a"
      },
      "outputs": [
        {
          "data": {
            "text/plain": [
              "1767"
            ]
          },
          "execution_count": 27,
          "metadata": {},
          "output_type": "execute_result"
        }
      ],
      "source": [
        "количество_женщин['Пол']"
      ]
    },
    {
      "cell_type": "code",
      "execution_count": 28,
      "metadata": {
        "colab": {
          "base_uri": "https://localhost:8080/"
        },
        "id": "QB0IWWrjxPgq",
        "outputId": "5c1d39bc-2a04-4b57-ea1d-1ce0618a69ef"
      },
      "outputs": [
        {
          "data": {
            "text/plain": [
              "1281"
            ]
          },
          "execution_count": 28,
          "metadata": {},
          "output_type": "execute_result"
        }
      ],
      "source": [
        "количество_мужчин['Пол']"
      ]
    },
    {
      "cell_type": "code",
      "execution_count": 29,
      "metadata": {
        "id": "cwxRwKVFhoN1"
      },
      "outputs": [],
      "source": [
        "# Вычислить процентное соотношение юношей и девушек:\n",
        "всего_студентов = количество_мужчин + количество_женщин\n",
        "процент_мужчин = (количество_мужчин / всего_студентов) * 100\n",
        "процент_женщин = (количество_женщин / всего_студентов) * 100"
      ]
    },
    {
      "cell_type": "code",
      "execution_count": 30,
      "metadata": {
        "colab": {
          "base_uri": "https://localhost:8080/"
        },
        "id": "uYv37e2-xHzW",
        "outputId": "96b634c4-838e-4f9b-ce9c-b007cfcc701e"
      },
      "outputs": [
        {
          "data": {
            "text/plain": [
              "42.02755905511811"
            ]
          },
          "execution_count": 30,
          "metadata": {},
          "output_type": "execute_result"
        }
      ],
      "source": [
        "процент_мужчин['Пол']"
      ]
    },
    {
      "cell_type": "code",
      "execution_count": 31,
      "metadata": {
        "colab": {
          "base_uri": "https://localhost:8080/"
        },
        "id": "dRk67t47zF2A",
        "outputId": "417118f0-fac0-47ef-bedf-d11b01d6572b"
      },
      "outputs": [
        {
          "data": {
            "text/plain": [
              "57.97244094488189"
            ]
          },
          "execution_count": 31,
          "metadata": {},
          "output_type": "execute_result"
        }
      ],
      "source": [
        "процент_женщин['Пол']"
      ]
    },
    {
      "cell_type": "markdown",
      "metadata": {
        "id": "BRElnNB10QcI"
      },
      "source": [
        "Сколько школ принимало участие в экзамене?"
      ]
    },
    {
      "cell_type": "code",
      "execution_count": 32,
      "metadata": {
        "id": "GgI6nJNN0RLT"
      },
      "outputs": [],
      "source": [
        "количество_школ = x['№ школы'].nunique() # nunique() — это функциявозвращает количество уникальных элементов"
      ]
    },
    {
      "cell_type": "code",
      "execution_count": 33,
      "metadata": {
        "colab": {
          "base_uri": "https://localhost:8080/"
        },
        "id": "Mhsm1fix2tXh",
        "outputId": "515f6f7b-f53f-47c0-ed27-1e728ce8c853"
      },
      "outputs": [
        {
          "data": {
            "text/plain": [
              "24"
            ]
          },
          "execution_count": 33,
          "metadata": {},
          "output_type": "execute_result"
        }
      ],
      "source": [
        "количество_школ"
      ]
    },
    {
      "cell_type": "markdown",
      "metadata": {
        "id": "xnvjmvOg3If6"
      },
      "source": [
        "Сколько всего заданий с кратким ответом? С развернутым ответом?"
      ]
    },
    {
      "cell_type": "code",
      "execution_count": 34,
      "metadata": {
        "id": "JP0aeEbh3LrM"
      },
      "outputs": [],
      "source": [
        "значение_ячейки = x.at[1, 'Задания с кратким ответом']\n",
        "количество_символов = len(str(значение_ячейки))"
      ]
    },
    {
      "cell_type": "code",
      "execution_count": 35,
      "metadata": {},
      "outputs": [
        {
          "data": {
            "text/plain": [
              "25"
            ]
          },
          "execution_count": 35,
          "metadata": {},
          "output_type": "execute_result"
        }
      ],
      "source": [
        "количество_символов # с кратким ответом"
      ]
    },
    {
      "cell_type": "code",
      "execution_count": 36,
      "metadata": {
        "id": "lJ4O0YYy9fQh"
      },
      "outputs": [],
      "source": [
        "# Выбор каждого четвертого элемента и подсчет количества символов\n",
        "res = x.at[1, 'Задания с развёрнутым ответом']\n",
        "четвертые_элементы = res[::4]\n",
        "количество_символов = [len(str(item)) for item in четвертые_элементы]"
      ]
    },
    {
      "cell_type": "code",
      "execution_count": 37,
      "metadata": {
        "colab": {
          "base_uri": "https://localhost:8080/"
        },
        "id": "QtTtQX5i9mW9",
        "outputId": "509d19c3-fdb1-4da1-9d97-ba97c31b311f"
      },
      "outputs": [
        {
          "data": {
            "text/plain": [
              "12"
            ]
          },
          "execution_count": 37,
          "metadata": {},
          "output_type": "execute_result"
        }
      ],
      "source": [
        "len(количество_символов) # c развернутым ответом"
      ]
    },
    {
      "cell_type": "markdown",
      "metadata": {
        "id": "WYliOy9e3Nt7"
      },
      "source": [
        "Пусть задания с кратким ответом будут задания типа В. Соответственно всего по экзамену вопросов класса В: Вi, ... Вк Посчитайте процент выполненных и невыполненных заданий по каждому вопросу класса В."
      ]
    },
    {
      "cell_type": "code",
      "execution_count": null,
      "metadata": {
        "id": "AwCOX3hz3O4s"
      },
      "outputs": [],
      "source": []
    },
    {
      "cell_type": "markdown",
      "metadata": {
        "id": "S9z8hjfn3PL-"
      },
      "source": [
        "Аналогично и с типом С (ответы с развернутым ответом)"
      ]
    },
    {
      "cell_type": "code",
      "execution_count": null,
      "metadata": {
        "id": "ZYycrQhf3WjL"
      },
      "outputs": [],
      "source": []
    },
    {
      "cell_type": "markdown",
      "metadata": {
        "id": "iMrUfzVX3WAg"
      },
      "source": [
        "Сделайте анализ по двум школам:\n",
        "\n",
        "a)  по всем выполненным заданиям типа В\n",
        "\n",
        "b)  по заданиям типа С больше 50%\n",
        "\n",
        "c)по среднему баллу юношей и девушек"
      ]
    },
    {
      "cell_type": "code",
      "execution_count": null,
      "metadata": {
        "id": "q8G_E1JC3dFX"
      },
      "outputs": [],
      "source": []
    }
  ],
  "metadata": {
    "colab": {
      "provenance": []
    },
    "kernelspec": {
      "display_name": "Python 3",
      "name": "python3"
    },
    "language_info": {
      "codemirror_mode": {
        "name": "ipython",
        "version": 3
      },
      "file_extension": ".py",
      "mimetype": "text/x-python",
      "name": "python",
      "nbconvert_exporter": "python",
      "pygments_lexer": "ipython3",
      "version": "3.10.11"
    }
  },
  "nbformat": 4,
  "nbformat_minor": 0
}
