{
 "cells": [
  {
   "cell_type": "markdown",
   "metadata": {},
   "source": [
    "# Pandas"
   ]
  },
  {
   "cell_type": "code",
   "execution_count": 2,
   "metadata": {},
   "outputs": [],
   "source": [
    "import pandas as pd"
   ]
  },
  {
   "cell_type": "markdown",
   "metadata": {},
   "source": [
    "## Разминка"
   ]
  },
  {
   "cell_type": "markdown",
   "metadata": {},
   "source": [
    "1. Загрузите данные из файла `sp500hst.txt` и обозначьте столбцы в соответствии с содержимым: `\"date\", \"ticker\", \"open\", \"high\", \"low\", \"close\", \"volume\"`."
   ]
  },
  {
   "cell_type": "code",
   "execution_count": 3,
   "metadata": {},
   "outputs": [
    {
     "name": "stdout",
     "output_type": "stream",
     "text": [
      "       date ticker   open     high     low  close  volume\n",
      "0  20090821      A  25.60  25.6100  25.220  25.55   34758\n",
      "1  20090824      A  25.64  25.7400  25.330  25.50   22247\n",
      "2  20090825      A  25.50  25.7000  25.225  25.34   30891\n",
      "3  20090826      A  25.32  25.6425  25.145  25.48   33334\n",
      "4  20090827      A  25.50  25.5700  25.230  25.54   70176\n"
     ]
    }
   ],
   "source": [
    "File = 'sp500hst.txt' # Загрузка данных из файла\n",
    "Column = [\"date\", \"ticker\", \"open\", \"high\", \"low\", \"close\", \"volume\"] # Указываем названия столбцов\n",
    "Data = pd.read_csv(File, sep=',', header=None, names=Column) # Чтение данных из файла с указанием разделителя, для разделения 'sep' \n",
    "print(Data.head())"
   ]
  },
  {
   "cell_type": "markdown",
   "metadata": {},
   "source": [
    "2. Рассчитайте среднее значение показателей для каждого из столбцов c номерами 3-6."
   ]
  },
  {
   "cell_type": "code",
   "execution_count": 4,
   "metadata": {},
   "outputs": [
    {
     "name": "stdout",
     "output_type": "stream",
     "text": [
      "open     42.611619\n",
      "high     43.118704\n",
      "low      42.070369\n",
      "close    42.618050\n",
      "dtype: float64\n"
     ]
    }
   ],
   "source": [
    "MeanValues = Data[[\"open\", \"high\", \"low\", \"close\"]].mean() # Рассчитываем средние значения для столбцов с номерами 3-6\n",
    "print(MeanValues)"
   ]
  },
  {
   "cell_type": "markdown",
   "metadata": {},
   "source": [
    "3. Добавьте столбец, содержащий только число месяца, к которому относится дата."
   ]
  },
  {
   "cell_type": "code",
   "execution_count": null,
   "metadata": {},
   "outputs": [
    {
     "name": "stdout",
     "output_type": "stream",
     "text": [
      "                           date ticker   open     high     low  close  volume  \\\n",
      "0 1970-01-01 00:00:00.020090821      A  25.60  25.6100  25.220  25.55   34758   \n",
      "1 1970-01-01 00:00:00.020090824      A  25.64  25.7400  25.330  25.50   22247   \n",
      "2 1970-01-01 00:00:00.020090825      A  25.50  25.7000  25.225  25.34   30891   \n",
      "3 1970-01-01 00:00:00.020090826      A  25.32  25.6425  25.145  25.48   33334   \n",
      "4 1970-01-01 00:00:00.020090827      A  25.50  25.5700  25.230  25.54   70176   \n",
      "\n",
      "   month  \n",
      "0      1  \n",
      "1      1  \n",
      "2      1  \n",
      "3      1  \n",
      "4      1  \n"
     ]
    }
   ],
   "source": [
    "Data['date'] = pd.to_datetime(Data['date']) # Преобразование столбца 'Data' в формат datetime\n",
    "Data['month'] = Data['date'].dt.month # Добавление нового столбца с номером месяца\n",
    "print(Data.head())"
   ]
  },
  {
   "cell_type": "markdown",
   "metadata": {},
   "source": [
    "4. Рассчитайте суммарный объем торгов для для одинаковых значений тикеров."
   ]
  },
  {
   "cell_type": "code",
   "execution_count": 6,
   "metadata": {},
   "outputs": [
    {
     "name": "stdout",
     "output_type": "stream",
     "text": [
      "    ticker  total_volume\n",
      "0        A       8609336\n",
      "1       AA      81898998\n",
      "2     AAPL      52261170\n",
      "3      ABC       3221221\n",
      "4      ABT      18975870\n",
      "..     ...           ...\n",
      "519    XTO      21297931\n",
      "520   YHOO      56837171\n",
      "521    YUM      10971538\n",
      "522   ZION      15551119\n",
      "523    ZMH       4938916\n",
      "\n",
      "[524 rows x 2 columns]\n"
     ]
    }
   ],
   "source": [
    "TotalVolumeByTicker = Data.groupby('ticker')['volume'].sum().reset_index() # Группировка по тикерам и суммирование объема торгов\n",
    "TotalVolumeByTicker.columns = ['ticker', 'total_volume'] # Переименование столбца для ясности\n",
    "print(TotalVolumeByTicker)"
   ]
  },
  {
   "cell_type": "markdown",
   "metadata": {},
   "source": [
    "5. Загрузите данные из файла sp500hst.txt и обозначьте столбцы в соответствии с содержимым: \"date\", \"ticker\", \"open\", \"high\", \"low\", \"close\", \"volume\". Добавьте столбец с расшифровкой названия тикера, используя данные из файла `sp_data2.csv` . В случае нехватки данных об именах тикеров корректно обработать их."
   ]
  },
  {
   "cell_type": "markdown",
   "metadata": {},
   "source": [
    "## Лабораторная работа №2"
   ]
  },
  {
   "cell_type": "markdown",
   "metadata": {},
   "source": [
    "### Базовые операции с `DataFrame`"
   ]
  },
  {
   "cell_type": "markdown",
   "metadata": {},
   "source": [
    "1.1 В файлах `recipes_sample.csv` и `reviews_sample.csv` находится информация об рецептах блюд и отзывах на эти рецепты соответственно. Загрузите данные из файлов в виде `pd.DataFrame` с названиями `recipes` и `reviews`. Обратите внимание на корректное считывание столбца с индексами в таблице `reviews` (безымянный столбец)."
   ]
  },
  {
   "cell_type": "code",
   "execution_count": 2,
   "metadata": {},
   "outputs": [
    {
     "name": "stdout",
     "output_type": "stream",
     "text": [
      "                                       name     id  minutes  contributor_id  \\\n",
      "0     george s at the cove  black bean soup  44123       90           35193   \n",
      "1        healthy for them  yogurt popsicles  67664       10           91970   \n",
      "2              i can t believe it s spinach  38798       30            1533   \n",
      "3                      italian  gut busters  35173       45           22724   \n",
      "4  love is in the air  beef fondue   sauces  84797       25            4470   \n",
      "\n",
      "    submitted  n_steps                                        description  \\\n",
      "0  2002-10-25      NaN  an original recipe created by chef scott meska...   \n",
      "1  2003-07-26      NaN  my children and their friends ask for my homem...   \n",
      "2  2002-08-29      NaN            these were so go, it surprised even me.   \n",
      "3  2002-07-27      NaN  my sister-in-law made these for us at a family...   \n",
      "4  2004-02-23      4.0  i think a fondue is a very romantic casual din...   \n",
      "\n",
      "   n_ingredients  \n",
      "0           18.0  \n",
      "1            NaN  \n",
      "2            8.0  \n",
      "3            NaN  \n",
      "4            NaN  \n",
      "           user_id  recipe_id        date  rating  \\\n",
      "370476       21752      57993  2003-05-01       5   \n",
      "624300      431813     142201  2007-09-16       5   \n",
      "187037      400708     252013  2008-01-10       4   \n",
      "706134  2001852463     404716  2017-12-11       5   \n",
      "312179       95810     129396  2008-03-14       5   \n",
      "\n",
      "                                                   review  \n",
      "370476  Last week whole sides of frozen salmon fillet ...  \n",
      "624300  So simple and so tasty!  I used a yellow capsi...  \n",
      "187037  Very nice breakfast HH, easy to make and yummy...  \n",
      "706134  These are a favorite for the holidays and so e...  \n",
      "312179  Excellent soup!  The tomato flavor is just gre...  \n"
     ]
    }
   ],
   "source": [
    "Recipes = pd.read_csv('recipes_sample.csv') # Загрузка данных из файла recipes_sample.csv\n",
    "Reviews = pd.read_csv('reviews_sample.csv', index_col=0) # Загрузка данных из файла reviews_sample.csv с указанием, что первый столбец является индексом\n",
    "print(Recipes.head())\n",
    "print(Reviews.head())"
   ]
  },
  {
   "cell_type": "markdown",
   "metadata": {},
   "source": [
    "1.2 Для каждой из таблиц выведите основные параметры:\n",
    "* количество точек данных (строк);\n",
    "* количество столбцов;\n",
    "* тип данных каждого столбца."
   ]
  },
  {
   "cell_type": "code",
   "execution_count": 3,
   "metadata": {},
   "outputs": [
    {
     "name": "stdout",
     "output_type": "stream",
     "text": [
      "Информация о таблице recipes:\n",
      "Количество строк: 30000\n",
      "Количество столбцов: 8\n",
      "Типы данных каждого столбца:\n",
      "name               object\n",
      "id                  int64\n",
      "minutes             int64\n",
      "contributor_id      int64\n",
      "submitted          object\n",
      "n_steps           float64\n",
      "description        object\n",
      "n_ingredients     float64\n",
      "dtype: object\n",
      "n\n",
      "Информация о таблице reviews:\n",
      "Количество строк: 126696\n",
      "Количество столбцов: 5\n",
      "Типы данных каждого столбца:\n",
      "user_id       int64\n",
      "recipe_id     int64\n",
      "date         object\n",
      "rating        int64\n",
      "review       object\n",
      "dtype: object\n",
      "n\n"
     ]
    }
   ],
   "source": [
    "def display_dataframe_info(df, name): # Функция для вывода основных параметров DataFrame\n",
    "    print(f\"Информация о таблице {name}:\")\n",
    "    print(f\"Количество строк: {df.shape[0]}\")\n",
    "    print(f\"Количество столбцов: {df.shape[1]}\")\n",
    "    print(\"Типы данных каждого столбца:\")\n",
    "    print(df.dtypes)\n",
    "    print(\"n\")\n",
    "display_dataframe_info(Recipes, \"recipes\")\n",
    "display_dataframe_info(Reviews, \"reviews\")"
   ]
  },
  {
   "cell_type": "markdown",
   "metadata": {},
   "source": [
    "1.3 Исследуйте, в каких столбцах таблиц содержатся пропуски. Посчитайте долю строк, содержащих пропуски, в отношении к общему количеству строк."
   ]
  },
  {
   "cell_type": "code",
   "execution_count": 4,
   "metadata": {},
   "outputs": [
    {
     "name": "stdout",
     "output_type": "stream",
     "text": [
      "Информация о пропусках в таблице recipes:\n",
      "n_steps          11190\n",
      "description        623\n",
      "n_ingredients     8880\n",
      "dtype: int64\n",
      "Доля строк с пропусками по каждому столбцу (%):\n",
      "n_steps          37.300000\n",
      "description       2.076667\n",
      "n_ingredients    29.600000\n",
      "dtype: float64\n",
      "Общая доля строк с хотя бы одним пропуском: 56.85%n\n",
      "Информация о пропусках в таблице reviews:\n",
      "review    17\n",
      "dtype: int64\n",
      "Доля строк с пропусками по каждому столбцу (%):\n",
      "review    0.013418\n",
      "dtype: float64\n",
      "Общая доля строк с хотя бы одним пропуском: 0.01%n\n"
     ]
    }
   ],
   "source": [
    "def analyze_missing_data(df, name): # Функция для анализа пропусков в DataFrame\n",
    "    TotalRows = df.shape[0] # Количество строк в DataFrame\n",
    "    MissingData = df.isnull().sum() # Количество пропусков в каждом столбце\n",
    "    MissingPercentage = (MissingData / TotalRows) * 100 # Доля строк с пропусками по каждому столбцу\n",
    "    print(f\"Информация о пропусках в таблице {name}:\")     # Вывод информации\n",
    "    print(MissingData[MissingData > 0])  # Выводим только столбцы с пропусками\n",
    "    print(\"Доля строк с пропусками по каждому столбцу (%):\")\n",
    "    print(MissingPercentage[MissingData > 0])  # Выводим только столбцы с пропусками\n",
    "    print(f\"Общая доля строк с хотя бы одним пропуском: {(df.isnull().any(axis=1).sum() / TotalRows) * 100:.2f}%n\")\n",
    "analyze_missing_data(Recipes, \"recipes\")\n",
    "analyze_missing_data(Reviews, \"reviews\")"
   ]
  },
  {
   "cell_type": "markdown",
   "metadata": {},
   "source": [
    "1.4 Рассчитайте среднее значение для каждого из числовых столбцов (где это имеет смысл)."
   ]
  },
  {
   "cell_type": "code",
   "execution_count": 5,
   "metadata": {},
   "outputs": [
    {
     "name": "stdout",
     "output_type": "stream",
     "text": [
      "Средние значения числовых столбцов в таблице recipes:\n",
      "id                2.218793e+05\n",
      "minutes           1.233581e+02\n",
      "contributor_id    5.635901e+06\n",
      "n_steps           9.805582e+00\n",
      "n_ingredients     9.008286e+00\n",
      "dtype: float64\n",
      "n\n",
      "Средние значения числовых столбцов в таблице reviews:\n",
      "user_id      1.408013e+08\n",
      "recipe_id    1.600944e+05\n",
      "rating       4.410802e+00\n",
      "dtype: float64\n",
      "n\n"
     ]
    }
   ],
   "source": [
    "def calculate_mean(df, name): # Функция для вычисления среднего значения числовых столбцов\n",
    "    numeric_cols = df.select_dtypes(include='number') # Выбираем только числовые столбцы\n",
    "    means = numeric_cols.mean() # Рассчитываем среднее значение для каждого числового столбца\n",
    "    print(f\"Средние значения числовых столбцов в таблице {name}:\")\n",
    "    print(means)\n",
    "    print(\"n\")\n",
    "calculate_mean(Recipes, \"recipes\")\n",
    "calculate_mean(Reviews, \"reviews\")"
   ]
  },
  {
   "cell_type": "markdown",
   "metadata": {},
   "source": [
    "1.5 Создайте серию из 10 случайных названий рецептов."
   ]
  },
  {
   "cell_type": "code",
   "execution_count": 16,
   "metadata": {},
   "outputs": [
    {
     "name": "stdout",
     "output_type": "stream",
     "text": [
      "27404                        the black swan house dressing\n",
      "18434                             my gramma s graham bread\n",
      "25824                        steak and shake special sauce\n",
      "16800                                         malibu mixer\n",
      "18009                              mom s old fashion fudge\n",
      "22241                                    raw apple muffins\n",
      "867                               apple cranberry conserve\n",
      "21092                      polynesian spareribs  crock pot\n",
      "23777    seared chilean sea bass and lobster with thyme...\n",
      "17678                                    millionaire s pie\n",
      "Name: name, dtype: object\n"
     ]
    }
   ],
   "source": [
    "recipes = pd.read_csv('recipes_sample.csv') # Загрузка данных из файла recipes_sample.csv\n",
    "random_titles = recipes['name'].sample(n=10) # Выбор 10 случайных названий рецептов\n",
    "print(random_titles)"
   ]
  },
  {
   "cell_type": "markdown",
   "metadata": {},
   "source": [
    "1.6 Измените индекс в таблице `reviews`, пронумеровав строки, начиная с нуля."
   ]
  },
  {
   "cell_type": "code",
   "execution_count": 17,
   "metadata": {},
   "outputs": [
    {
     "name": "stdout",
     "output_type": "stream",
     "text": [
      "   Unnamed: 0     user_id  recipe_id        date  rating  \\\n",
      "0      370476       21752      57993  2003-05-01       5   \n",
      "1      624300      431813     142201  2007-09-16       5   \n",
      "2      187037      400708     252013  2008-01-10       4   \n",
      "3      706134  2001852463     404716  2017-12-11       5   \n",
      "4      312179       95810     129396  2008-03-14       5   \n",
      "\n",
      "                                              review  \n",
      "0  Last week whole sides of frozen salmon fillet ...  \n",
      "1  So simple and so tasty!  I used a yellow capsi...  \n",
      "2  Very nice breakfast HH, easy to make and yummy...  \n",
      "3  These are a favorite for the holidays and so e...  \n",
      "4  Excellent soup!  The tomato flavor is just gre...  \n"
     ]
    }
   ],
   "source": [
    "# Загрузка данных из файлов\n",
    "reviews = pd.read_csv('reviews_sample.csv')\n",
    "\n",
    "# Изменение индекса в таблице reviews\n",
    "reviews.reset_index(drop=True, inplace=True)\n",
    "\n",
    "# Проверка результата\n",
    "print(reviews.head())"
   ]
  },
  {
   "cell_type": "markdown",
   "metadata": {},
   "source": [
    "1.7 Выведите информацию о рецептах, время выполнения которых не больше 20 минут и кол-во ингредиентов в которых не больше 5."
   ]
  },
  {
   "cell_type": "code",
   "execution_count": 20,
   "metadata": {},
   "outputs": [
    {
     "name": "stdout",
     "output_type": "stream",
     "text": [
      "                                                    name      id  minutes  \\\n",
      "28                                   quick biscuit bread  302399       20   \n",
      "60                         peas  fit for a king or queen  303944       20   \n",
      "90                     hawaiian sunrise           mimosa  100837        5   \n",
      "91            tasty dish s   banana pudding in 2 minutes  286484        2   \n",
      "94                                    1 minute meatballs   11361       13   \n",
      "...                                                  ...     ...      ...   \n",
      "29873  zip and steam red potatoes with butter and garlic  304922       13   \n",
      "29874                          ziplock vanilla ice cream   74250       10   \n",
      "29905                      zucchini and corn with cheese  256177       15   \n",
      "29980               zucchini with jalapeno monterey jack  320622       10   \n",
      "29983                          zucchini with serrano ham  162411       15   \n",
      "\n",
      "       contributor_id   submitted  n_steps  \\\n",
      "28             213909  2008-05-06     11.0   \n",
      "60             213909  2008-05-16      NaN   \n",
      "90              58104  2004-09-29      4.0   \n",
      "91              47892  2008-02-13      NaN   \n",
      "94               4470  2001-09-03      NaN   \n",
      "...               ...         ...      ...   \n",
      "29873          724218  2008-05-27      9.0   \n",
      "29874           24386  2003-10-29      8.0   \n",
      "29905          305531  2007-09-29      4.0   \n",
      "29980          305531  2008-08-20      3.0   \n",
      "29983          152500  2006-03-31      6.0   \n",
      "\n",
      "                                             description  n_ingredients  \n",
      "28     this is a wonderful quick bread to make as an ...            5.0  \n",
      "60     this recipe is so simple and the flavors are s...            5.0  \n",
      "90     pineapple mimosa was changed to hawaiian sunri...            3.0  \n",
      "91     \"mmmm, i love bananas!\" a --tasty dish-- origi...            4.0  \n",
      "94     this is a real short cut for cooks in a hurry....            2.0  \n",
      "...                                                  ...            ...  \n",
      "29873  i haven't tried this yet, but i am going to so...            5.0  \n",
      "29874  a fun thing for kids to do. may want to use mi...            3.0  \n",
      "29905  from betty crocker fresh spring recipes. i lik...            5.0  \n",
      "29980                                  simple and yummy!            3.0  \n",
      "29983  this dish is from tim malzer, a german chef wh...            5.0  \n",
      "\n",
      "[2019 rows x 8 columns]\n"
     ]
    }
   ],
   "source": [
    "# Загрузка данных из файла\n",
    "recipes = pd.read_csv('recipes_sample.csv')\n",
    "\n",
    "# Фильтрация рецептов\n",
    "filtered_recipes = recipes[(recipes['minutes'] <= 20) & (recipes['n_ingredients'] <= 5)]\n",
    "\n",
    "# Вывод информации о отфильтрованных рецептах\n",
    "print(filtered_recipes)"
   ]
  },
  {
   "cell_type": "markdown",
   "metadata": {},
   "source": [
    "### Работа с датами в `pandas`"
   ]
  },
  {
   "cell_type": "markdown",
   "metadata": {},
   "source": [
    "2.1 Преобразуйте столбец `submitted` из таблицы `recipes` в формат времени. Модифицируйте решение задачи 1.1 так, чтобы считать столбец сразу в нужном формате."
   ]
  },
  {
   "cell_type": "code",
   "execution_count": 4,
   "metadata": {},
   "outputs": [
    {
     "name": "stdout",
     "output_type": "stream",
     "text": [
      "                                       name     id  minutes  contributor_id  \\\n",
      "0     george s at the cove  black bean soup  44123       90           35193   \n",
      "1        healthy for them  yogurt popsicles  67664       10           91970   \n",
      "2              i can t believe it s spinach  38798       30            1533   \n",
      "3                      italian  gut busters  35173       45           22724   \n",
      "4  love is in the air  beef fondue   sauces  84797       25            4470   \n",
      "\n",
      "   submitted  n_steps                                        description  \\\n",
      "0 2002-10-25      NaN  an original recipe created by chef scott meska...   \n",
      "1 2003-07-26      NaN  my children and their friends ask for my homem...   \n",
      "2 2002-08-29      NaN            these were so go, it surprised even me.   \n",
      "3 2002-07-27      NaN  my sister-in-law made these for us at a family...   \n",
      "4 2004-02-23      4.0  i think a fondue is a very romantic casual din...   \n",
      "\n",
      "   n_ingredients  \n",
      "0           18.0  \n",
      "1            NaN  \n",
      "2            8.0  \n",
      "3            NaN  \n",
      "4            NaN  \n",
      "           user_id  recipe_id        date  rating  \\\n",
      "370476       21752      57993  2003-05-01       5   \n",
      "624300      431813     142201  2007-09-16       5   \n",
      "187037      400708     252013  2008-01-10       4   \n",
      "706134  2001852463     404716  2017-12-11       5   \n",
      "312179       95810     129396  2008-03-14       5   \n",
      "\n",
      "                                                   review  \n",
      "370476  Last week whole sides of frozen salmon fillet ...  \n",
      "624300  So simple and so tasty!  I used a yellow capsi...  \n",
      "187037  Very nice breakfast HH, easy to make and yummy...  \n",
      "706134  These are a favorite for the holidays and so e...  \n",
      "312179  Excellent soup!  The tomato flavor is just gre...  \n"
     ]
    }
   ],
   "source": [
    "recipes = pd.read_csv('recipes_sample.csv', parse_dates=['submitted']) # Загрузка данных из файла recipes_sample.csv с преобразованием столбца 'submitted' в формат времени\n",
    "reviews = pd.read_csv('reviews_sample.csv', index_col=0) # Загрузка данных из файла reviews_sample.csv с указанием, что первый столбец является индексом\n",
    "print(recipes.head())\n",
    "print(reviews.head())"
   ]
  },
  {
   "cell_type": "markdown",
   "metadata": {},
   "source": [
    "2.2 Выведите информацию о рецептах, добавленных в датасет не позже 2010 года."
   ]
  },
  {
   "cell_type": "code",
   "execution_count": 5,
   "metadata": {},
   "outputs": [
    {
     "name": "stdout",
     "output_type": "stream",
     "text": [
      "                                               name      id  minutes  \\\n",
      "0             george s at the cove  black bean soup   44123       90   \n",
      "1                healthy for them  yogurt popsicles   67664       10   \n",
      "2                      i can t believe it s spinach   38798       30   \n",
      "3                              italian  gut busters   35173       45   \n",
      "4          love is in the air  beef fondue   sauces   84797       25   \n",
      "...                                             ...     ...      ...   \n",
      "29993                     zuni caf zucchini pickles  316950     2895   \n",
      "29995  zurie s holey rustic olive and cheddar bread  267661       80   \n",
      "29996          zwetschgenkuchen  bavarian plum cake  386977      240   \n",
      "29997   zwiebelkuchen   southwest german onion cake  103312       75   \n",
      "29999        cookies by design   cookies on a stick  298512       29   \n",
      "\n",
      "       contributor_id  submitted  n_steps  \\\n",
      "0               35193 2002-10-25      NaN   \n",
      "1               91970 2003-07-26      NaN   \n",
      "2                1533 2002-08-29      NaN   \n",
      "3               22724 2002-07-27      NaN   \n",
      "4                4470 2004-02-23      4.0   \n",
      "...               ...        ...      ...   \n",
      "29993           62264 2008-07-31      NaN   \n",
      "29995          200862 2007-11-25     16.0   \n",
      "29996          177443 2009-08-24      NaN   \n",
      "29997          161745 2004-11-03      NaN   \n",
      "29999          506822 2008-04-15      9.0   \n",
      "\n",
      "                                             description  n_ingredients  \n",
      "0      an original recipe created by chef scott meska...           18.0  \n",
      "1      my children and their friends ask for my homem...            NaN  \n",
      "2                these were so go, it surprised even me.            8.0  \n",
      "3      my sister-in-law made these for us at a family...            NaN  \n",
      "4      i think a fondue is a very romantic casual din...            NaN  \n",
      "...                                                  ...            ...  \n",
      "29993  refrigerator pickles for some of the zucchini ...            8.0  \n",
      "29995  this is based on a french recipe but i changed...           10.0  \n",
      "29996  this is a traditional fresh plum cake, thought...           11.0  \n",
      "29997  this is a traditional late summer early fall s...            NaN  \n",
      "29999  i've heard of the 'cookies by design' company,...           10.0  \n",
      "\n",
      "[27661 rows x 8 columns]\n"
     ]
    }
   ],
   "source": [
    "recipes_before_2011 = recipes[recipes['submitted'] <= '2010-12-31'] # Фильтрация рецептов, добавленных не позже 2010 года\n",
    "print(recipes_before_2011)"
   ]
  },
  {
   "cell_type": "markdown",
   "metadata": {},
   "source": [
    "### Работа со строковыми данными в `pandas`"
   ]
  },
  {
   "cell_type": "markdown",
   "metadata": {},
   "source": [
    "3.1  Добавьте в таблицу `recipes` столбец `description_length`, в котором хранится длина описания рецепта из столбца `description`."
   ]
  },
  {
   "cell_type": "code",
   "execution_count": 6,
   "metadata": {},
   "outputs": [
    {
     "name": "stdout",
     "output_type": "stream",
     "text": [
      "                                         description  description_length\n",
      "0  an original recipe created by chef scott meska...               330.0\n",
      "1  my children and their friends ask for my homem...               255.0\n",
      "2            these were so go, it surprised even me.                39.0\n",
      "3  my sister-in-law made these for us at a family...               154.0\n",
      "4  i think a fondue is a very romantic casual din...               587.0\n"
     ]
    }
   ],
   "source": [
    "recipes = pd.read_csv('recipes_sample.csv')\n",
    "recipes['description_length'] = recipes['description'].str.len() # Добавление нового столбца description_length, который содержит длину описания\n",
    "print(recipes[['description', 'description_length']].head())"
   ]
  },
  {
   "cell_type": "markdown",
   "metadata": {},
   "source": [
    "3.2 Измените название каждого рецепта в таблице `recipes` таким образом, чтобы каждое слово в названии начиналось с прописной буквы."
   ]
  },
  {
   "cell_type": "code",
   "execution_count": 8,
   "metadata": {},
   "outputs": [
    {
     "name": "stdout",
     "output_type": "stream",
     "text": [
      "                                       name\n",
      "0     George S At The Cove  Black Bean Soup\n",
      "1        Healthy For Them  Yogurt Popsicles\n",
      "2              I Can T Believe It S Spinach\n",
      "3                      Italian  Gut Busters\n",
      "4  Love Is In The Air  Beef Fondue   Sauces\n"
     ]
    }
   ],
   "source": [
    "recipes['name'] = recipes['name'].str.title() # Изменение названий рецептов, чтобы каждое слово начиналось с прописной буквы\n",
    "print(recipes[['name']].head())"
   ]
  },
  {
   "cell_type": "markdown",
   "metadata": {},
   "source": [
    "3.3 Добавьте в таблицу `recipes` столбец `name_word_count`, в котором хранится количество слов из названии рецепта (считайте, что слова в названии разделяются только пробелами). Обратите внимание, что между словами может располагаться несколько пробелов подряд."
   ]
  },
  {
   "cell_type": "code",
   "execution_count": 11,
   "metadata": {},
   "outputs": [
    {
     "name": "stdout",
     "output_type": "stream",
     "text": [
      "                                       name  name_word_count\n",
      "0     George S At The Cove  Black Bean Soup                8\n",
      "1        Healthy For Them  Yogurt Popsicles                6\n",
      "2              I Can T Believe It S Spinach                7\n",
      "3                      Italian  Gut Busters                4\n",
      "4  Love Is In The Air  Beef Fondue   Sauces                8\n"
     ]
    }
   ],
   "source": [
    "recipes['name_word_count'] = recipes['name'].str.strip().str.replace(r's+', ' ', regex=True).str.split().str.len() # Удаление лишних пробелов и подсчет количества слов в названии\n",
    "print(recipes[['name', 'name_word_count']].head())"
   ]
  },
  {
   "cell_type": "markdown",
   "metadata": {},
   "source": [
    "### Группировки таблиц `pd.DataFrame`"
   ]
  },
  {
   "cell_type": "markdown",
   "metadata": {},
   "source": [
    "4.1 Посчитайте количество рецептов, представленных каждым из участников (`contributor_id`). Какой участник добавил максимальное кол-во рецептов?"
   ]
  },
  {
   "cell_type": "code",
   "execution_count": 13,
   "metadata": {},
   "outputs": [
    {
     "name": "stdout",
     "output_type": "stream",
     "text": [
      "      contributor_id  recipe_count\n",
      "0               1530             5\n",
      "1               1533           186\n",
      "2               1534            50\n",
      "3               1535            40\n",
      "4               1538             8\n",
      "...              ...           ...\n",
      "8399      2001968497             2\n",
      "8400      2002059754             1\n",
      "8401      2002234079             1\n",
      "8402      2002234259             1\n",
      "8403      2002247884             1\n",
      "\n",
      "[8404 rows x 2 columns]\n",
      "Участник с максимальным количеством рецептов: 89831 с 421 рецептами.\n"
     ]
    }
   ],
   "source": [
    "recipes = pd.read_csv('recipes_sample.csv')\n",
    "contributor_counts = recipes.groupby('contributor_id').size().reset_index(name='recipe_count')# Подсчет количества рецептов для каждого участника\n",
    "max_contributor = contributor_counts.loc[contributor_counts['recipe_count'].idxmax()] # Нахождение участника с максимальным количеством рецептов\n",
    "print(contributor_counts)\n",
    "print(f\"Участник с максимальным количеством рецептов: {max_contributor['contributor_id']} с {max_contributor['recipe_count']} рецептами.\")"
   ]
  },
  {
   "cell_type": "markdown",
   "metadata": {},
   "source": [
    "4.2 Посчитайте средний рейтинг к каждому из рецептов. Для скольких рецептов отсутствуют отзывы? Обратите внимание, что отзыв с нулевым рейтингом или не заполненным текстовым описанием не считается отсутствующим."
   ]
  },
  {
   "cell_type": "code",
   "execution_count": 16,
   "metadata": {},
   "outputs": [
    {
     "name": "stdout",
     "output_type": "stream",
     "text": [
      "   Unnamed: 0     user_id  recipe_id        date  rating  \\\n",
      "0      370476       21752      57993  2003-05-01       5   \n",
      "1      624300      431813     142201  2007-09-16       5   \n",
      "2      187037      400708     252013  2008-01-10       4   \n",
      "3      706134  2001852463     404716  2017-12-11       5   \n",
      "4      312179       95810     129396  2008-03-14       5   \n",
      "\n",
      "                                              review  \n",
      "0  Last week whole sides of frozen salmon fillet ...  \n",
      "1  So simple and so tasty!  I used a yellow capsi...  \n",
      "2  Very nice breakfast HH, easy to make and yummy...  \n",
      "3  These are a favorite for the holidays and so e...  \n",
      "4  Excellent soup!  The tomato flavor is just gre...  \n",
      "       recipe_id  average_rating\n",
      "0             48        2.000000\n",
      "1             55        4.750000\n",
      "2             66        4.944444\n",
      "3             91        4.750000\n",
      "4             94        5.000000\n",
      "...          ...             ...\n",
      "27434     536360        5.000000\n",
      "27435     536473        5.000000\n",
      "27436     536547        5.000000\n",
      "27437     536728        4.000000\n",
      "27438     536729        4.750000\n",
      "\n",
      "[27439 rows x 2 columns]\n",
      "Количество рецептов без отзывов: 661\n"
     ]
    }
   ],
   "source": [
    "reviews = pd.read_csv('reviews_sample.csv')\n",
    "print(reviews.head()) # Убедимся, что в данных есть необходимые столбцы\n",
    "valid_reviews = reviews[(reviews['rating'] > 0) & (reviews['review'].notna())] # Фильтруем отзывы, чтобы исключить те, которые имеют нулевой рейтинг или пустой текст\n",
    "average_ratings = valid_reviews.groupby('recipe_id')['rating'].mean().reset_index(name='average_rating') # Подсчет среднего рейтинга для каждого рецепта\n",
    "all_recipes = reviews['recipe_id'].unique() # Подсчет количества рецептов, для которых отсутствуют отзывы (т.е. не осталось валидных отзывов) Сначала получаем уникальные идентификаторы рецептов\n",
    "recipes_with_reviews = valid_reviews['recipe_id'].unique()\n",
    "recipes_without_reviews_count = len(set(all_recipes) - set(recipes_with_reviews)) # Количество рецептов без отзывов\n",
    "print(average_ratings)\n",
    "print(f\"Количество рецептов без отзывов: {recipes_without_reviews_count}\")"
   ]
  },
  {
   "cell_type": "markdown",
   "metadata": {},
   "source": [
    "4.3 Посчитайте количество рецептов с разбивкой по годам создания."
   ]
  },
  {
   "cell_type": "code",
   "execution_count": 18,
   "metadata": {},
   "outputs": [
    {
     "name": "stdout",
     "output_type": "stream",
     "text": [
      "       submitted  recipe_count\n",
      "0     1999-08-06             1\n",
      "1     1999-08-09             4\n",
      "2     1999-08-10             3\n",
      "3     1999-08-11             3\n",
      "4     1999-08-12             4\n",
      "...          ...           ...\n",
      "4027  2018-07-25             1\n",
      "4028  2018-07-30             1\n",
      "4029  2018-07-31             1\n",
      "4030  2018-08-11             2\n",
      "4031  2018-08-15             1\n",
      "\n",
      "[4032 rows x 2 columns]\n"
     ]
    }
   ],
   "source": [
    "# Подсчет количества рецептов по годам создания\n",
    "recipes_per_year = recipes.groupby('submitted')['id'].count().reset_index(name='recipe_count')\n",
    "\n",
    "# Вывод результатов\n",
    "print(recipes_per_year)"
   ]
  },
  {
   "cell_type": "markdown",
   "metadata": {},
   "source": [
    "### Объединение таблиц `pd.DataFrame`"
   ]
  },
  {
   "cell_type": "markdown",
   "metadata": {},
   "source": [
    "5.1 При помощи объединения таблиц, создайте `DataFrame`, состоящий из четырех столбцов: `id`, `name`, `user_id`, `rating`. Рецепты, на которые не оставлен ни один отзыв, должны отсутствовать в полученной таблице. Подтвердите правильность работы вашего кода, выбрав рецепт, не имеющий отзывов, и попытавшись найти строку, соответствующую этому рецепту, в полученном `DataFrame`."
   ]
  },
  {
   "cell_type": "code",
   "execution_count": 8,
   "metadata": {},
   "outputs": [
    {
     "name": "stdout",
     "output_type": "stream",
     "text": [
      "            id                                    name  user_id  rating\n",
      "0        44123   george s at the cove  black bean soup   743566       5\n",
      "1        44123   george s at the cove  black bean soup    76503       5\n",
      "2        44123   george s at the cove  black bean soup    34206       5\n",
      "3        67664      healthy for them  yogurt popsicles   494084       5\n",
      "4        67664      healthy for them  yogurt popsicles   303445       5\n",
      "...        ...                                     ...      ...     ...\n",
      "126691  486161                             zydeco soup   305531       5\n",
      "126692  486161                             zydeco soup  1271506       5\n",
      "126693  486161                             zydeco soup   724631       5\n",
      "126694  486161                             zydeco soup   133174       5\n",
      "126695  298512  cookies by design   cookies on a stick   804234       1\n",
      "\n",
      "[126696 rows x 4 columns]\n",
      "Empty DataFrame\n",
      "Columns: [id, name, user_id, rating]\n",
      "Index: []\n"
     ]
    }
   ],
   "source": [
    "# Загрузка данных из CSV файлов\n",
    "recipes_sample = pd.read_csv('recipes_sample.csv')\n",
    "reviews_sample = pd.read_csv('reviews_sample.csv')\n",
    "\n",
    "# Объединение таблиц по id рецепта и recipe_id отзыва, используя inner join\n",
    "merged_df = pd.merge(recipes_sample, reviews_sample, left_on='id', right_on='recipe_id', how='inner')\n",
    "\n",
    "# Оставляем только нужные столбцы\n",
    "final_df = merged_df[['id', 'name', 'user_id', 'rating']]\n",
    "\n",
    "# Выводим финальный DataFrame\n",
    "print(final_df)\n",
    "\n",
    "# Проверка: выбор рецепта, который не имеет отзывов\n",
    "# Предположим, что у вас есть рецепт с id = 148096, который не имеет отзывов\n",
    "recipe_without_reviews_id = 148096\n",
    "result = final_df[final_df['id'] == recipe_without_reviews_id]\n",
    "\n",
    "# Печатаем результат проверки\n",
    "print(result)\n"
   ]
  },
  {
   "cell_type": "markdown",
   "metadata": {},
   "source": [
    "5.2 При помощи объединения таблиц и группировок, создайте `DataFrame`, состоящий из трех столбцов: `recipe_id`, `name`, `review_count`, где столбец `review_count` содержит кол-во отзывов, оставленных на рецепт `recipe_id`. У рецептов, на которые не оставлен ни один отзыв, в столбце `review_count` должен быть указан 0. Подтвердите правильность работы вашего кода, выбрав рецепт, не имеющий отзывов, и найдя строку, соответствующую этому рецепту, в полученном `DataFrame`."
   ]
  },
  {
   "cell_type": "code",
   "execution_count": null,
   "metadata": {},
   "outputs": [],
   "source": []
  },
  {
   "cell_type": "markdown",
   "metadata": {},
   "source": [
    "5.3. Выясните, рецепты, добавленные в каком году, имеют наименьший средний рейтинг?"
   ]
  },
  {
   "cell_type": "code",
   "execution_count": null,
   "metadata": {},
   "outputs": [],
   "source": []
  },
  {
   "cell_type": "markdown",
   "metadata": {},
   "source": [
    "### Сохранение таблиц `pd.DataFrame`"
   ]
  },
  {
   "cell_type": "markdown",
   "metadata": {},
   "source": [
    "6.1 Отсортируйте таблицу в порядке убывания величины столбца `name_word_count` и сохраните результаты выполнения заданий 3.1-3.3 в csv файл. "
   ]
  },
  {
   "cell_type": "code",
   "execution_count": 13,
   "metadata": {},
   "outputs": [
    {
     "name": "stdout",
     "output_type": "stream",
     "text": [
      "                                         description  description_length\n",
      "0  an original recipe created by chef scott meska...               330.0\n",
      "1  my children and their friends ask for my homem...               255.0\n",
      "2            these were so go, it surprised even me.                39.0\n",
      "3  my sister-in-law made these for us at a family...               154.0\n",
      "4  i think a fondue is a very romantic casual din...               587.0\n",
      "                                       name\n",
      "0     George S At The Cove  Black Bean Soup\n",
      "1        Healthy For Them  Yogurt Popsicles\n",
      "2              I Can T Believe It S Spinach\n",
      "3                       Italian Gut Busters\n",
      "4  Love Is In The Air  Beef Fondue   Sauces\n",
      "                                       name  name_word_count\n",
      "0     George S At The Cove  Black Bean Soup                8\n",
      "1        Healthy For Them  Yogurt Popsicles                6\n",
      "2              I Can T Believe It S Spinach                7\n",
      "3                       Italian Gut Busters                4\n",
      "4  Love Is In The Air  Beef Fondue   Sauces                8\n",
      "                                                    name      id  minutes  \\\n",
      "22778  Roasted Garlic Stuffed Steak With Garlic Mashe...   38409       85   \n",
      "28083  Tsr Version Of T G I  Friday S Black Bean Soup...  102274       75   \n",
      "20991  Please Don T Hate Us Because We Re Rich And Ch...  112526       65   \n",
      "28070  Tsr Version Of Burger King Zesty Onion Ring Sa...  308329        5   \n",
      "18441  My Love Is Like A Red  Red Rose  Rose Petal Ja...  301796       90   \n",
      "\n",
      "       contributor_id   submitted  n_steps  \\\n",
      "22778           53227  2002-08-26      NaN   \n",
      "28083           74652  2004-10-19      9.0   \n",
      "20991          116401  2005-03-02      NaN   \n",
      "28070          174971  2008-06-09      2.0   \n",
      "18441          242729  2008-05-01     18.0   \n",
      "\n",
      "                                             description  n_ingredients  \\\n",
      "22778  this is for all those garlic lovers out there ...            8.0   \n",
      "28083  from www.topsecretrecipes.com i got this copyc...           16.0   \n",
      "20991                                     this is not a             9.0   \n",
      "28070  from www.topsecretrecipes.com this sauce is so...            6.0   \n",
      "18441  a wonderful old english medieval recipe for ro...            NaN   \n",
      "\n",
      "       description_length  name_word_count  \n",
      "22778                88.0               17  \n",
      "28083               436.0               16  \n",
      "20991                14.0               15  \n",
      "28070               465.0               15  \n",
      "18441               879.0               15  \n"
     ]
    }
   ],
   "source": [
    "# Загрузка данных из CSV-файла\n",
    "recipes = pd.read_csv('recipes_sample.csv')\n",
    "\n",
    "# 3.1 Добавление нового столбца description_length, который содержит длину описания\n",
    "recipes['description_length'] = recipes['description'].str.len()\n",
    "print(recipes[['description', 'description_length']].head())\n",
    "\n",
    "# 3.2 Изменение названий рецептов, чтобы каждое слово начиналось с прописной буквы\n",
    "recipes['name'] = recipes['name'].str.title()\n",
    "print(recipes[['name']].head())\n",
    "\n",
    "# 3.3 Удаление лишних пробелов и подсчет количества слов в названии\n",
    "recipes['name_word_count'] = recipes['name'].str.strip().str.replace(r's+', ' ', regex=True).str.split().str.len()\n",
    "print(recipes[['name', 'name_word_count']].head())\n",
    "\n",
    "# 6.1 Сортировка таблицы по убыванию величины столбца name_word_count\n",
    "recipes_sorted = recipes.sort_values(by='name_word_count', ascending=False)\n",
    "\n",
    "# Сохранение результатов в CSV файл\n",
    "recipes_sorted.to_csv('recipes_with_description_length_and_word_count.csv', index=False)\n",
    "\n",
    "# Вывод первых строк отсортированной таблицы\n",
    "print(recipes_sorted.head())\n"
   ]
  },
  {
   "cell_type": "markdown",
   "metadata": {},
   "source": [
    "6.2 Воспользовавшись `pd.ExcelWriter`, cохраните результаты 5.1 и 5.2 в файл: на лист с названием `Рецепты с оценками` сохраните результаты выполнения 5.1; на лист с названием `Количество отзывов по рецептам` сохраните результаты выполнения 5.2."
   ]
  },
  {
   "cell_type": "code",
   "execution_count": null,
   "metadata": {},
   "outputs": [],
   "source": []
  }
 ],
 "metadata": {
  "kernelspec": {
   "display_name": "Python 3",
   "language": "python",
   "name": "python3"
  },
  "language_info": {
   "codemirror_mode": {
    "name": "ipython",
    "version": 3
   },
   "file_extension": ".py",
   "mimetype": "text/x-python",
   "name": "python",
   "nbconvert_exporter": "python",
   "pygments_lexer": "ipython3",
   "version": "3.10.11"
  }
 },
 "nbformat": 4,
 "nbformat_minor": 4
}
