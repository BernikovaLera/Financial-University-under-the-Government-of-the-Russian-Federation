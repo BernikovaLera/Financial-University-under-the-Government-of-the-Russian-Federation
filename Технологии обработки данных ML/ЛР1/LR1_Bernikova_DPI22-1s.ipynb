{
 "cells": [
  {
   "cell_type": "markdown",
   "metadata": {},
   "source": [
    "### Разминка:"
   ]
  },
  {
   "cell_type": "code",
   "execution_count": 1,
   "metadata": {},
   "outputs": [],
   "source": [
    "import numpy as np"
   ]
  },
  {
   "cell_type": "markdown",
   "metadata": {},
   "source": [
    "1. Сгенерировать двухмерный массив arr размерности (4, 7), состоящий из случайных действительных чисел, равномерно распределенных в диапазоне от 0 до 20. Нормализовать значения массива с помощью преобразования вида  𝑎𝑥+𝑏  так, что после нормализации максимальный элемент масcива будет равен 1.0, минимальный 0.0"
   ]
  },
  {
   "cell_type": "code",
   "execution_count": 2,
   "metadata": {},
   "outputs": [
    {
     "data": {
      "text/plain": [
       "array([[ 0.        ,  1.39160429,  0.44358635,  1.46816202,  1.20055791,\n",
       "         1.22313275, -0.99814099],\n",
       "       [ 1.15596429, -0.32635415,  1.20828445,  1.38657964,  0.00715393,\n",
       "         0.4456002 ,  0.12898926],\n",
       "       [ 0.92147227, -0.2535383 ,  0.21342106, -0.52233956,  0.19861993,\n",
       "        -0.04874326, -1.07653192],\n",
       "       [ 0.00796867,  0.74865505, -0.49123077, -0.64383711, -0.4188188 ,\n",
       "        -0.48599092,  1.        ]])"
      ]
     },
     "execution_count": 2,
     "metadata": {},
     "output_type": "execute_result"
    }
   ],
   "source": [
    "arr = np.random.uniform(0, 20, (4, 7))\n",
    "arr\n",
    "a=1/(arr[3,6]-arr[0,0])\n",
    "b=0-arr[0,0]*a\n",
    "arrn=arr*a+b\n",
    "arrn"
   ]
  },
  {
   "cell_type": "markdown",
   "metadata": {},
   "source": [
    "2. Создать матрицу 8 на 10 из случайных целых (используя модуль `numpy.random`) чисел из диапозона от 0 до 10 и найти в ней строку (ее индекс и вывести саму строку), в которой сумма значений минимальна."
   ]
  },
  {
   "cell_type": "code",
   "execution_count": 13,
   "metadata": {},
   "outputs": [
    {
     "data": {
      "text/plain": [
       "(5, array([1, 1, 2, 2, 1, 0, 9, 0, 5, 7]))"
      ]
     },
     "execution_count": 13,
     "metadata": {},
     "output_type": "execute_result"
    }
   ],
   "source": [
    "a2 = np.random.randint(0, 11, (8, 10))\n",
    "str=a2.sum(axis=1)\n",
    "str.argmin(), a2[str.argmin()]\n"
   ]
  },
  {
   "cell_type": "markdown",
   "metadata": {},
   "source": [
    "3. Найти евклидово расстояние между двумя одномерными векторами одинаковой размерности"
   ]
  },
  {
   "cell_type": "code",
   "execution_count": 15,
   "metadata": {},
   "outputs": [
    {
     "data": {
      "text/plain": [
       "5.196152422706632"
      ]
     },
     "execution_count": 15,
     "metadata": {},
     "output_type": "execute_result"
    }
   ],
   "source": [
    "p1=np.array((0,0,0))\n",
    "p2=np.array((3,3,3))\n",
    "square=np.square(p1-p2)\n",
    "sum_sq=np.sum(square)\n",
    "dist=np.sqrt(sum_sq)\n",
    "dist"
   ]
  },
  {
   "cell_type": "markdown",
   "metadata": {},
   "source": [
    "4. Решить матричное уравнение `A*X*B=-C` - найти матрицу `X`. Где `A = [[-1, 2, 4], [-3, 1, 2], [-3, 0, 1]]`, `B=[[3, -1], [2, 1]]`, `C=[[7, 21], [11, 8], [8, 4]]`."
   ]
  },
  {
   "cell_type": "code",
   "execution_count": 18,
   "metadata": {},
   "outputs": [
    {
     "data": {
      "text/plain": [
       "array([[-1.00000000e+00, -5.32907052e-16],\n",
       "       [ 2.00000000e+00, -1.00000000e+00],\n",
       "       [-3.00000000e+00,  4.00000000e+00]])"
      ]
     },
     "execution_count": 18,
     "metadata": {},
     "output_type": "execute_result"
    }
   ],
   "source": [
    "A=np.array([[-1, 2, 4], [-3, 1, 2], [-3, 0, 1]])\n",
    "B=np.array([[3, -1], [2, 1]])\n",
    "C=np.array([[7, 21], [11, 8], [8, 4]])\n",
    "Ainv=np.linalg.inv(A)\n",
    "Binv=np.linalg.inv(B)\n",
    "X=np.matmul(np.matmul(Ainv,C), Binv)\n",
    "X"
   ]
  },
  {
   "cell_type": "markdown",
   "metadata": {},
   "source": [
    "### Лабораторная работа №1"
   ]
  },
  {
   "cell_type": "markdown",
   "metadata": {},
   "source": [
    "1. Файл `minutes_n_ingredients.csv` содержит информацию об идентификаторе рецепта, времени его выполнения в минутах и количестве необходимых ингредиентов. Считайте данные из этого файла в виде массива `numpy` типа `int32`, используя `np.load_txt`. Выведите на экран первые 5 строк массива."
   ]
  },
  {
   "cell_type": "code",
   "execution_count": 2,
   "metadata": {},
   "outputs": [
    {
     "name": "stdout",
     "output_type": "stream",
     "text": [
      "[[1.27244e+05 6.00000e+01 1.60000e+01]\n",
      " [2.38910e+04 2.50000e+01 7.00000e+00]\n",
      " [9.47460e+04 1.00000e+01 6.00000e+00]\n",
      " [6.76600e+04 5.00000e+00 6.00000e+00]\n",
      " [1.57911e+05 6.00000e+01 1.40000e+01]]\n"
     ]
    }
   ],
   "source": [
    "data = np.loadtxt('minutes_n_ingredients.csv', delimiter=',', skiprows=1)\n",
    "print(data[:5])"
   ]
  },
  {
   "cell_type": "markdown",
   "metadata": {},
   "source": [
    "2. Вычислите среднее значение, минимум, максимум и медиану по каждому из столбцов, кроме первого."
   ]
  },
  {
   "cell_type": "code",
   "execution_count": 3,
   "metadata": {},
   "outputs": [
    {
     "name": "stdout",
     "output_type": "stream",
     "text": [
      "Средние значения: [2.16010017e+04 9.05528000e+00]\n",
      "Минимальные значения: [0. 1.]\n",
      "Максимальные значения: [2.14748365e+09 3.90000000e+01]\n",
      "Медианные значения: [40.  9.]\n"
     ]
    }
   ],
   "source": [
    "dataColumns = data[:, 1:]\n",
    "\n",
    "meanValues = np.mean(dataColumns, axis=0)\n",
    "minValues = np.min(dataColumns, axis=0)\n",
    "maxValues = np.max(dataColumns, axis=0)\n",
    "medianValues = np.median(dataColumns, axis=0)\n",
    "\n",
    "print(\"Средние значения:\", meanValues)\n",
    "print(\"Минимальные значения:\", minValues)\n",
    "print(\"Максимальные значения:\", maxValues)\n",
    "print(\"Медианные значения:\", medianValues)"
   ]
  },
  {
   "cell_type": "markdown",
   "metadata": {},
   "source": [
    "3. Ограничьте сверху значения продолжительности выполнения рецепта значением квантиля $q_{0.75}$. "
   ]
  },
  {
   "cell_type": "code",
   "execution_count": 4,
   "metadata": {},
   "outputs": [
    {
     "name": "stdout",
     "output_type": "stream",
     "text": [
      "Ограниченные значения продолжительности: [60. 25. 10. ... 65.  5. 65.]\n"
     ]
    }
   ],
   "source": [
    "durations1 = data[:, 1]  # Извлекаем столбец с продолжительностью\n",
    "q_75 = np.percentile(durations1, 75) # Вычисляем 75-й процентиль\n",
    "durationsLimited = np.clip(durations1, None, q_75) # Ограничиваем значения продолжительности сверху значением q_75\n",
    "data[:, 1] = durationsLimited\n",
    "print(\"Ограниченные значения продолжительности:\", durationsLimited)"
   ]
  },
  {
   "cell_type": "markdown",
   "metadata": {},
   "source": [
    "4. Посчитайте, для скольких рецептов указана продолжительность, равная нулю. Замените для таких строк значение в данном столбце на 1."
   ]
  },
  {
   "cell_type": "code",
   "execution_count": 5,
   "metadata": {},
   "outputs": [
    {
     "name": "stdout",
     "output_type": "stream",
     "text": [
      "Количество рецептов с продолжительностью 0: 479\n"
     ]
    }
   ],
   "source": [
    "durations2 = data[:, 1]  # Извлекаем столбец с продолжительностью\n",
    "zeroDurationCount = np.sum(durations2 == 0) # Считаем количество рецептов с продолжительностью 0\n",
    "durations2[durations2 == 0] = 1 # Заменяем нулевые значения на 1\n",
    "data[:, 1] = durations2\n",
    "print(f\"Количество рецептов с продолжительностью 0: {zeroDurationCount}\")"
   ]
  },
  {
   "cell_type": "markdown",
   "metadata": {},
   "source": [
    "5. Посчитайте, сколько уникальных рецептов находится в датасете."
   ]
  },
  {
   "cell_type": "code",
   "execution_count": 6,
   "metadata": {},
   "outputs": [
    {
     "name": "stdout",
     "output_type": "stream",
     "text": [
      "Количество уникальных рецептов: 65\n"
     ]
    }
   ],
   "source": [
    "columns1 = data[:, 1]\n",
    "uniqueRecipesCount = len (np.unique (columns1))\n",
    "print(f\"Количество уникальных рецептов: {uniqueRecipesCount}\")"
   ]
  },
  {
   "cell_type": "markdown",
   "metadata": {},
   "source": [
    "6. Сколько и каких различных значений кол-ва ингредиентов присутвует в рецептах из датасета?"
   ]
  },
  {
   "cell_type": "code",
   "execution_count": 7,
   "metadata": {},
   "outputs": [
    {
     "name": "stdout",
     "output_type": "stream",
     "text": [
      "Количество различных значений кол-ва ингредиентов: 37\n",
      "Различные значения кол-ва ингредиентов: [ 1.  2.  3.  4.  5.  6.  7.  8.  9. 10. 11. 12. 13. 14. 15. 16. 17. 18.\n",
      " 19. 20. 21. 22. 23. 24. 25. 26. 27. 28. 29. 30. 31. 32. 33. 34. 35. 37.\n",
      " 39.]\n"
     ]
    }
   ],
   "source": [
    "columns2 = data[:, 2]\n",
    "uniqueIngredientCounts = np.unique(columns2)\n",
    "print(f\"Количество различных значений кол-ва ингредиентов: {len(uniqueIngredientCounts)}\")\n",
    "print(\"Различные значения кол-ва ингредиентов:\", uniqueIngredientCounts)"
   ]
  },
  {
   "cell_type": "markdown",
   "metadata": {},
   "source": [
    "7. Создайте версию массива, содержащую информацию только о рецептах, состоящих не более чем из 5 ингредиентов."
   ]
  },
  {
   "cell_type": "code",
   "execution_count": 8,
   "metadata": {},
   "outputs": [
    {
     "name": "stdout",
     "output_type": "stream",
     "text": [
      "Рецепты с не более чем 5 ингредиентами: [[4.46597e+05 1.50000e+01 5.00000e+00]\n",
      " [2.04134e+05 5.00000e+00 3.00000e+00]\n",
      " [2.56230e+04 6.00000e+00 4.00000e+00]\n",
      " ...\n",
      " [5.20880e+04 6.00000e+01 5.00000e+00]\n",
      " [1.28811e+05 1.50000e+01 4.00000e+00]\n",
      " [3.70915e+05 5.00000e+00 4.00000e+00]]\n"
     ]
    }
   ],
   "source": [
    "filteredData = data[data[:, 2] <= 5]\n",
    "print(\"Рецепты с не более чем 5 ингредиентами:\", filteredData)"
   ]
  },
  {
   "cell_type": "markdown",
   "metadata": {},
   "source": [
    "8. Для каждого рецепта посчитайте, сколько в среднем ингредиентов приходится на одну минуту рецепта. Найдите максимальное значение этой величины для всего датасета"
   ]
  },
  {
   "cell_type": "code",
   "execution_count": 22,
   "metadata": {},
   "outputs": [
    {
     "name": "stdout",
     "output_type": "stream",
     "text": [
      "Максимальное количество ингредиентов на минуту: 24.0\n"
     ]
    }
   ],
   "source": [
    "times1 = data[:, 1]  # Время выполнения (минуты)\n",
    "ingredients1 = data[:, 2]  # Количество ингредиентов\n",
    "ingredientsPerMinute = ingredients1 / times1 # Вычисляем количество ингредиентов на минуту для каждого рецепта\n",
    "maxIngredientsPerMinute = np.max(ingredientsPerMinute) # Находим максимальное значение\n",
    "print(\"Максимальное количество ингредиентов на минуту:\", maxIngredientsPerMinute)"
   ]
  },
  {
   "cell_type": "markdown",
   "metadata": {},
   "source": [
    "9. Вычислите среднее количество ингредиентов для топ-100 рецептов с наибольшей продолжительностью"
   ]
  },
  {
   "cell_type": "code",
   "execution_count": 23,
   "metadata": {},
   "outputs": [
    {
     "name": "stdout",
     "output_type": "stream",
     "text": [
      "Среднее количество ингредиентов для топ-100 рецептов с наибольшей продолжительностью: 9.96\n"
     ]
    }
   ],
   "source": [
    "times2 = data[:, 1]  # Время выполнения (минуты)\n",
    "ingredients2 = data[:, 2]  # Количество ингредиентов\n",
    "top100indices = np.argsort(times2)[-100:] # Находим индексы топ-100 рецептов с наибольшим временем выполнения\n",
    "top100ingredients = ingredients2[top100indices] # Извлекаем количество ингредиентов для этих рецептов\n",
    "averageIngredients = np.mean(top100ingredients) # Вычисляем среднее количество ингредиентов\n",
    "\n",
    "print(\"Среднее количество ингредиентов для топ-100 рецептов с наибольшей продолжительностью:\", averageIngredients)"
   ]
  },
  {
   "cell_type": "markdown",
   "metadata": {},
   "source": [
    "10. Выберите случайным образом и выведите информацию о 10 различных рецептах"
   ]
  },
  {
   "cell_type": "code",
   "execution_count": 25,
   "metadata": {},
   "outputs": [
    {
     "name": "stdout",
     "output_type": "stream",
     "text": [
      "ID: 210173.0, Время выполнения: 10.0 минут, Количество ингредиентов: 5.0\n",
      "ID: 183008.0, Время выполнения: 65.0 минут, Количество ингредиентов: 14.0\n",
      "ID: 262829.0, Время выполнения: 40.0 минут, Количество ингредиентов: 6.0\n",
      "ID: 30500.0, Время выполнения: 40.0 минут, Количество ингредиентов: 10.0\n",
      "ID: 108766.0, Время выполнения: 65.0 минут, Количество ингредиентов: 14.0\n",
      "ID: 323064.0, Время выполнения: 10.0 минут, Количество ингредиентов: 7.0\n",
      "ID: 20751.0, Время выполнения: 65.0 минут, Количество ингредиентов: 16.0\n",
      "ID: 51775.0, Время выполнения: 10.0 минут, Количество ингредиентов: 5.0\n",
      "ID: 163282.0, Время выполнения: 5.0 минут, Количество ингредиентов: 4.0\n",
      "ID: 97103.0, Время выполнения: 12.0 минут, Количество ингредиентов: 12.0\n"
     ]
    }
   ],
   "source": [
    "randomIndices = np.random.choice(data.shape[0], size=10, replace=False) # Выбор случайных 10 различных рецептов\n",
    "randomRecipes = data[randomIndices]\n",
    "for recipe in randomRecipes:\n",
    "    print(f\"ID: {recipe[0]}, Время выполнения: {recipe[1]} минут, Количество ингредиентов: {recipe[2]}\")"
   ]
  },
  {
   "cell_type": "markdown",
   "metadata": {},
   "source": [
    "11. Выведите процент рецептов, кол-во ингредиентов в которых меньше среднего."
   ]
  },
  {
   "cell_type": "code",
   "execution_count": 26,
   "metadata": {},
   "outputs": [
    {
     "name": "stdout",
     "output_type": "stream",
     "text": [
      "Процент рецептов с количеством ингредиентов меньше среднего: 58.80%\n"
     ]
    }
   ],
   "source": [
    "ingredientsCount = data[:, 2].astype(int)  # Извлечение количества ингредиентов\n",
    "averageIngredients = np.mean(ingredientsCount) # Вычисление среднего количества ингредиентов\n",
    "countBelowAverage = np.sum(ingredientsCount < averageIngredients) # Подсчет количества рецептов с количеством ингредиентов меньше среднего\n",
    "totalRecipes = ingredientsCount.size # Общее количество рецептов\n",
    "percentageBelowAverage = (countBelowAverage / totalRecipes) * 100 # Вычисление процента\n",
    "print(f\"Процент рецептов с количеством ингредиентов меньше среднего: {percentageBelowAverage:.2f}%\")"
   ]
  },
  {
   "cell_type": "markdown",
   "metadata": {},
   "source": [
    "12. Назовем \"простым\" такой рецепт, длительность выполнения которого не больше 20 минут и кол-во ингредиентов в котором не больше 5. Создайте версию датасета с дополнительным столбцом, значениями которого являются 1, если рецепт простой, и 0 в противном случае."
   ]
  },
  {
   "cell_type": "code",
   "execution_count": 28,
   "metadata": {},
   "outputs": [],
   "source": [
    "id = data[:, 0]  # Идентификатор рецепта\n",
    "cookingTimes = data[:, 1].astype(int)  # Время выполнения в минутах\n",
    "ingredientsCount = data[:, 2].astype(int)  # Количество ингредиентов\n",
    "simpleRecipes = ((cookingTimes <= 20) & (ingredientsCount <= 5)).astype(int) # Создание нового столбца для \"простых\" рецептов\n",
    "newData = np.column_stack((id, cookingTimes, ingredientsCount, simpleRecipes)) # Объединение данных в новый массив\n",
    "\n",
    "np.savetxt('simple_recipes_dataset.csv', newData, delimiter=',', fmt='%s', header='ID,cookingTime,ingredientsCount,isSimple', comments='')"
   ]
  },
  {
   "cell_type": "markdown",
   "metadata": {},
   "source": [
    "13. Выведите процент \"простых\" рецептов в датасете"
   ]
  },
  {
   "cell_type": "code",
   "execution_count": 29,
   "metadata": {},
   "outputs": [
    {
     "name": "stdout",
     "output_type": "stream",
     "text": [
      "Процент \"простых\" рецептов: 9.55%\n"
     ]
    }
   ],
   "source": [
    "totalRecipes = len(simpleRecipes) # Подсчет общего количества рецептов и \"простых\" рецептов\n",
    "simpleRecipesCount = np.sum(simpleRecipes)\n",
    "percentageSimpleRecipes = (simpleRecipesCount / totalRecipes) * 100 # Вычисление процента \"простых\" рецептов\n",
    "\n",
    "print(f'Процент \"простых\" рецептов: {percentageSimpleRecipes:.2f}%')"
   ]
  },
  {
   "cell_type": "markdown",
   "metadata": {},
   "source": [
    "14. Разделим рецепты на группы по следующему правилу. Назовем рецепты короткими, если их продолжительность составляет менее 10 минут; стандартными, если их продолжительность составляет более 10, но менее 20 минут; и длинными, если их продолжительность составляет не менее 20 минут. Создайте трехмерный массив, где нулевая ось отвечает за номер группы (короткий, стандартный или длинный рецепт), первая ось - за сам рецепт и вторая ось - за характеристики рецепта. Выберите максимальное количество рецептов из каждой группы таким образом, чтобы было возможно сформировать трехмерный массив. Выведите форму полученного массива."
   ]
  },
  {
   "cell_type": "code",
   "execution_count": 33,
   "metadata": {},
   "outputs": [
    {
     "name": "stdout",
     "output_type": "stream",
     "text": [
      "Форма трехмерного массива: (3, 79751, 3)\n"
     ]
    }
   ],
   "source": [
    "# Группировка рецептов по времени выполнения\n",
    "shortRecipes = []\n",
    "standardRecipes = []\n",
    "longRecipes = []\n",
    "\n",
    "for i in range(len(cookingTimes)):\n",
    "    if cookingTimes[i] < 10:\n",
    "        shortRecipes.append([id[i], cookingTimes[i], ingredientsCount[i]])\n",
    "    elif 10 <= cookingTimes[i] < 20:\n",
    "        standardRecipes.append([id[i], cookingTimes[i], ingredientsCount[i]])\n",
    "    else:\n",
    "        longRecipes.append([id[i], cookingTimes[i], ingredientsCount[i]])\n",
    "\n",
    "maxLength = max(len(shortRecipes), len(standardRecipes), len(longRecipes)) # Определение максимального количества рецептов в каждой группе\n",
    "threeDarray = np.full((3, maxLength, 3), np.nan) # Создание трехмерного массива с заполнением NaN для недостающих значений\n",
    "\n",
    "for i, recipes in enumerate([shortRecipes, standardRecipes, longRecipes]):\n",
    "    for j, recipe in enumerate(recipes):\n",
    "        threeDarray[i, j] = recipe\n",
    "\n",
    "\n",
    "print('Форма трехмерного массива:', threeDarray.shape)"
   ]
  }
 ],
 "metadata": {
  "kernelspec": {
   "display_name": "Python 3",
   "language": "python",
   "name": "python3"
  },
  "language_info": {
   "codemirror_mode": {
    "name": "ipython",
    "version": 3
   },
   "file_extension": ".py",
   "mimetype": "text/x-python",
   "name": "python",
   "nbconvert_exporter": "python",
   "pygments_lexer": "ipython3",
   "version": "3.10.11"
  }
 },
 "nbformat": 4,
 "nbformat_minor": 2
}
